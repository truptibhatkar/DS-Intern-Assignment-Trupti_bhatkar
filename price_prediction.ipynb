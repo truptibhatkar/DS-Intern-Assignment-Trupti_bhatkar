{
 "cells": [
  {
   "cell_type": "code",
   "execution_count": 6,
   "id": "679b5a37-ef2a-4ccc-a82e-5cc8048b96a9",
   "metadata": {},
   "outputs": [],
   "source": [
    "#importing basic necessary libraries\n",
    "import pandas as pd\n",
    "import numpy as np\n",
    "import matplotlib.pyplot as plt\n",
    "import seaborn as sns"
   ]
  },
  {
   "cell_type": "code",
   "execution_count": 7,
   "id": "8828a8b5-e891-4649-b2b1-11ffcb8ed453",
   "metadata": {},
   "outputs": [],
   "source": [
    "#loading data\n",
    "df=pd.read_csv(\"data/data.csv\")"
   ]
  },
  {
   "cell_type": "code",
   "execution_count": 8,
   "id": "690384e8-d811-4482-8507-9e9f5d97c738",
   "metadata": {},
   "outputs": [
    {
     "data": {
      "text/html": [
       "<div>\n",
       "<style scoped>\n",
       "    .dataframe tbody tr th:only-of-type {\n",
       "        vertical-align: middle;\n",
       "    }\n",
       "\n",
       "    .dataframe tbody tr th {\n",
       "        vertical-align: top;\n",
       "    }\n",
       "\n",
       "    .dataframe thead th {\n",
       "        text-align: right;\n",
       "    }\n",
       "</style>\n",
       "<table border=\"1\" class=\"dataframe\">\n",
       "  <thead>\n",
       "    <tr style=\"text-align: right;\">\n",
       "      <th></th>\n",
       "      <th>timestamp</th>\n",
       "      <th>equipment_energy_consumption</th>\n",
       "      <th>lighting_energy</th>\n",
       "      <th>zone1_temperature</th>\n",
       "      <th>zone1_humidity</th>\n",
       "      <th>zone2_temperature</th>\n",
       "      <th>zone2_humidity</th>\n",
       "      <th>zone3_temperature</th>\n",
       "      <th>zone3_humidity</th>\n",
       "      <th>zone4_temperature</th>\n",
       "      <th>...</th>\n",
       "      <th>zone9_temperature</th>\n",
       "      <th>zone9_humidity</th>\n",
       "      <th>outdoor_temperature</th>\n",
       "      <th>atmospheric_pressure</th>\n",
       "      <th>outdoor_humidity</th>\n",
       "      <th>wind_speed</th>\n",
       "      <th>visibility_index</th>\n",
       "      <th>dew_point</th>\n",
       "      <th>random_variable1</th>\n",
       "      <th>random_variable2</th>\n",
       "    </tr>\n",
       "  </thead>\n",
       "  <tbody>\n",
       "    <tr>\n",
       "      <th>0</th>\n",
       "      <td>2016-01-11 17:00:00</td>\n",
       "      <td>60.0</td>\n",
       "      <td>-77.78778596503064</td>\n",
       "      <td>33.74660933896648</td>\n",
       "      <td>47.59666666666671</td>\n",
       "      <td>19.2</td>\n",
       "      <td>44.790000</td>\n",
       "      <td>19.79</td>\n",
       "      <td>NaN</td>\n",
       "      <td>19.000000</td>\n",
       "      <td>...</td>\n",
       "      <td>17.033333</td>\n",
       "      <td>45.53</td>\n",
       "      <td>6.600000</td>\n",
       "      <td>733.500000</td>\n",
       "      <td>92.000000</td>\n",
       "      <td>7.000000</td>\n",
       "      <td>63.000000</td>\n",
       "      <td>5.300000</td>\n",
       "      <td>13.275433</td>\n",
       "      <td>13.275433</td>\n",
       "    </tr>\n",
       "    <tr>\n",
       "      <th>1</th>\n",
       "      <td>2016-01-11 17:10:00</td>\n",
       "      <td>60.0</td>\n",
       "      <td>30.0</td>\n",
       "      <td>19.89</td>\n",
       "      <td>46.69333333333329</td>\n",
       "      <td>19.2</td>\n",
       "      <td>44.722500</td>\n",
       "      <td>19.79</td>\n",
       "      <td>44.790000</td>\n",
       "      <td>19.000000</td>\n",
       "      <td>...</td>\n",
       "      <td>17.066667</td>\n",
       "      <td>45.56</td>\n",
       "      <td>6.483333</td>\n",
       "      <td>733.600000</td>\n",
       "      <td>92.000000</td>\n",
       "      <td>6.666667</td>\n",
       "      <td>59.166667</td>\n",
       "      <td>5.200000</td>\n",
       "      <td>18.606195</td>\n",
       "      <td>18.606195</td>\n",
       "    </tr>\n",
       "    <tr>\n",
       "      <th>2</th>\n",
       "      <td>2016-01-11 17:20:00</td>\n",
       "      <td>50.0</td>\n",
       "      <td>30.0</td>\n",
       "      <td>19.89</td>\n",
       "      <td>46.3</td>\n",
       "      <td>19.2</td>\n",
       "      <td>44.626667</td>\n",
       "      <td>19.79</td>\n",
       "      <td>44.933333</td>\n",
       "      <td>35.921144</td>\n",
       "      <td>...</td>\n",
       "      <td>17.000000</td>\n",
       "      <td>45.50</td>\n",
       "      <td>6.366667</td>\n",
       "      <td>733.700000</td>\n",
       "      <td>92.000000</td>\n",
       "      <td>6.333333</td>\n",
       "      <td>55.333333</td>\n",
       "      <td>5.100000</td>\n",
       "      <td>28.642668</td>\n",
       "      <td>28.642668</td>\n",
       "    </tr>\n",
       "    <tr>\n",
       "      <th>3</th>\n",
       "      <td>2016-01-11 17:30:00</td>\n",
       "      <td>50.0</td>\n",
       "      <td>40.0</td>\n",
       "      <td>33.74660933896648</td>\n",
       "      <td>46.0666666666667</td>\n",
       "      <td>19.2</td>\n",
       "      <td>44.590000</td>\n",
       "      <td>19.79</td>\n",
       "      <td>45.000000</td>\n",
       "      <td>NaN</td>\n",
       "      <td>...</td>\n",
       "      <td>17.000000</td>\n",
       "      <td>45.40</td>\n",
       "      <td>6.250000</td>\n",
       "      <td>733.800000</td>\n",
       "      <td>92.000000</td>\n",
       "      <td>6.000000</td>\n",
       "      <td>51.500000</td>\n",
       "      <td>37.673716</td>\n",
       "      <td>45.410389</td>\n",
       "      <td>45.410389</td>\n",
       "    </tr>\n",
       "    <tr>\n",
       "      <th>4</th>\n",
       "      <td>2016-01-11 17:40:00</td>\n",
       "      <td>60.0</td>\n",
       "      <td>40.0</td>\n",
       "      <td>19.89</td>\n",
       "      <td>46.33333333333329</td>\n",
       "      <td>19.2</td>\n",
       "      <td>44.530000</td>\n",
       "      <td>19.79</td>\n",
       "      <td>45.000000</td>\n",
       "      <td>18.890000</td>\n",
       "      <td>...</td>\n",
       "      <td>4.476511</td>\n",
       "      <td>45.40</td>\n",
       "      <td>6.133333</td>\n",
       "      <td>733.900000</td>\n",
       "      <td>92.000000</td>\n",
       "      <td>5.666667</td>\n",
       "      <td>47.666667</td>\n",
       "      <td>4.900000</td>\n",
       "      <td>10.084097</td>\n",
       "      <td>10.084097</td>\n",
       "    </tr>\n",
       "    <tr>\n",
       "      <th>...</th>\n",
       "      <td>...</td>\n",
       "      <td>...</td>\n",
       "      <td>...</td>\n",
       "      <td>...</td>\n",
       "      <td>...</td>\n",
       "      <td>...</td>\n",
       "      <td>...</td>\n",
       "      <td>...</td>\n",
       "      <td>...</td>\n",
       "      <td>...</td>\n",
       "      <td>...</td>\n",
       "      <td>...</td>\n",
       "      <td>...</td>\n",
       "      <td>...</td>\n",
       "      <td>...</td>\n",
       "      <td>...</td>\n",
       "      <td>...</td>\n",
       "      <td>...</td>\n",
       "      <td>...</td>\n",
       "      <td>...</td>\n",
       "      <td>...</td>\n",
       "    </tr>\n",
       "    <tr>\n",
       "      <th>16852</th>\n",
       "      <td>2016-10-03 20:10:00</td>\n",
       "      <td>1139.9856929495108</td>\n",
       "      <td>20.0</td>\n",
       "      <td>22.1</td>\n",
       "      <td>38.723333333333294</td>\n",
       "      <td>19.79</td>\n",
       "      <td>39.566667</td>\n",
       "      <td>21.29</td>\n",
       "      <td>38.845000</td>\n",
       "      <td>21.390000</td>\n",
       "      <td>...</td>\n",
       "      <td>18.100000</td>\n",
       "      <td>40.09</td>\n",
       "      <td>5.816667</td>\n",
       "      <td>761.466667</td>\n",
       "      <td>68.333333</td>\n",
       "      <td>2.000000</td>\n",
       "      <td>64.666667</td>\n",
       "      <td>0.366667</td>\n",
       "      <td>10.707282</td>\n",
       "      <td>10.707282</td>\n",
       "    </tr>\n",
       "    <tr>\n",
       "      <th>16853</th>\n",
       "      <td>2016-10-04 06:10:00</td>\n",
       "      <td>50.0</td>\n",
       "      <td>86.00296632575207</td>\n",
       "      <td>21.29</td>\n",
       "      <td>39.6266666666667</td>\n",
       "      <td>18.1</td>\n",
       "      <td>44.290000</td>\n",
       "      <td>22.39</td>\n",
       "      <td>38.760000</td>\n",
       "      <td>NaN</td>\n",
       "      <td>...</td>\n",
       "      <td>20.200000</td>\n",
       "      <td>44.50</td>\n",
       "      <td>3.683333</td>\n",
       "      <td>752.250000</td>\n",
       "      <td>96.666667</td>\n",
       "      <td>1.000000</td>\n",
       "      <td>18.000000</td>\n",
       "      <td>3.150000</td>\n",
       "      <td>49.199695</td>\n",
       "      <td>49.199695</td>\n",
       "    </tr>\n",
       "    <tr>\n",
       "      <th>16854</th>\n",
       "      <td>2016-11-03 00:50:00</td>\n",
       "      <td>50.0</td>\n",
       "      <td>0.0</td>\n",
       "      <td>21.39</td>\n",
       "      <td>37.59</td>\n",
       "      <td>18.463333333333296</td>\n",
       "      <td>39.966667</td>\n",
       "      <td>21.10</td>\n",
       "      <td>37.790000</td>\n",
       "      <td>20.600000</td>\n",
       "      <td>...</td>\n",
       "      <td>18.100000</td>\n",
       "      <td>40.20</td>\n",
       "      <td>1.750000</td>\n",
       "      <td>763.000000</td>\n",
       "      <td>84.166667</td>\n",
       "      <td>1.000000</td>\n",
       "      <td>60.833333</td>\n",
       "      <td>-0.633333</td>\n",
       "      <td>6.905370</td>\n",
       "      <td>6.905370</td>\n",
       "    </tr>\n",
       "    <tr>\n",
       "      <th>16855</th>\n",
       "      <td>2016-11-04 13:20:00</td>\n",
       "      <td>80.0</td>\n",
       "      <td>0.0</td>\n",
       "      <td>22.5</td>\n",
       "      <td>39.36</td>\n",
       "      <td>23.6</td>\n",
       "      <td>35.730000</td>\n",
       "      <td>23.10</td>\n",
       "      <td>38.000000</td>\n",
       "      <td>22.290000</td>\n",
       "      <td>...</td>\n",
       "      <td>21.100000</td>\n",
       "      <td>39.53</td>\n",
       "      <td>16.800000</td>\n",
       "      <td>750.166667</td>\n",
       "      <td>50.333333</td>\n",
       "      <td>6.000000</td>\n",
       "      <td>40.000000</td>\n",
       "      <td>6.266667</td>\n",
       "      <td>25.020775</td>\n",
       "      <td>25.020775</td>\n",
       "    </tr>\n",
       "    <tr>\n",
       "      <th>16856</th>\n",
       "      <td>2016-12-01 15:50:00</td>\n",
       "      <td>30.0</td>\n",
       "      <td>0.0</td>\n",
       "      <td>20.066666666666695</td>\n",
       "      <td>43.863333333333294</td>\n",
       "      <td>19.1333333333333</td>\n",
       "      <td>42.863333</td>\n",
       "      <td>19.89</td>\n",
       "      <td>44.760000</td>\n",
       "      <td>19.600000</td>\n",
       "      <td>...</td>\n",
       "      <td>17.166667</td>\n",
       "      <td>43.79</td>\n",
       "      <td>6.400000</td>\n",
       "      <td>743.883333</td>\n",
       "      <td>81.000000</td>\n",
       "      <td>4.166667</td>\n",
       "      <td>40.000000</td>\n",
       "      <td>3.400000</td>\n",
       "      <td>26.301386</td>\n",
       "      <td>NaN</td>\n",
       "    </tr>\n",
       "  </tbody>\n",
       "</table>\n",
       "<p>16857 rows × 29 columns</p>\n",
       "</div>"
      ],
      "text/plain": [
       "                 timestamp equipment_energy_consumption     lighting_energy  \\\n",
       "0      2016-01-11 17:00:00                         60.0  -77.78778596503064   \n",
       "1      2016-01-11 17:10:00                         60.0                30.0   \n",
       "2      2016-01-11 17:20:00                         50.0                30.0   \n",
       "3      2016-01-11 17:30:00                         50.0                40.0   \n",
       "4      2016-01-11 17:40:00                         60.0                40.0   \n",
       "...                    ...                          ...                 ...   \n",
       "16852  2016-10-03 20:10:00           1139.9856929495108                20.0   \n",
       "16853  2016-10-04 06:10:00                         50.0   86.00296632575207   \n",
       "16854  2016-11-03 00:50:00                         50.0                 0.0   \n",
       "16855  2016-11-04 13:20:00                         80.0                 0.0   \n",
       "16856  2016-12-01 15:50:00                         30.0                 0.0   \n",
       "\n",
       "        zone1_temperature      zone1_humidity   zone2_temperature  \\\n",
       "0       33.74660933896648   47.59666666666671                19.2   \n",
       "1                   19.89   46.69333333333329                19.2   \n",
       "2                   19.89                46.3                19.2   \n",
       "3       33.74660933896648    46.0666666666667                19.2   \n",
       "4                   19.89   46.33333333333329                19.2   \n",
       "...                   ...                 ...                 ...   \n",
       "16852                22.1  38.723333333333294               19.79   \n",
       "16853               21.29    39.6266666666667                18.1   \n",
       "16854               21.39               37.59  18.463333333333296   \n",
       "16855                22.5               39.36                23.6   \n",
       "16856  20.066666666666695  43.863333333333294    19.1333333333333   \n",
       "\n",
       "       zone2_humidity  zone3_temperature  zone3_humidity  zone4_temperature  \\\n",
       "0           44.790000              19.79             NaN          19.000000   \n",
       "1           44.722500              19.79       44.790000          19.000000   \n",
       "2           44.626667              19.79       44.933333          35.921144   \n",
       "3           44.590000              19.79       45.000000                NaN   \n",
       "4           44.530000              19.79       45.000000          18.890000   \n",
       "...               ...                ...             ...                ...   \n",
       "16852       39.566667              21.29       38.845000          21.390000   \n",
       "16853       44.290000              22.39       38.760000                NaN   \n",
       "16854       39.966667              21.10       37.790000          20.600000   \n",
       "16855       35.730000              23.10       38.000000          22.290000   \n",
       "16856       42.863333              19.89       44.760000          19.600000   \n",
       "\n",
       "       ...  zone9_temperature  zone9_humidity  outdoor_temperature  \\\n",
       "0      ...          17.033333           45.53             6.600000   \n",
       "1      ...          17.066667           45.56             6.483333   \n",
       "2      ...          17.000000           45.50             6.366667   \n",
       "3      ...          17.000000           45.40             6.250000   \n",
       "4      ...           4.476511           45.40             6.133333   \n",
       "...    ...                ...             ...                  ...   \n",
       "16852  ...          18.100000           40.09             5.816667   \n",
       "16853  ...          20.200000           44.50             3.683333   \n",
       "16854  ...          18.100000           40.20             1.750000   \n",
       "16855  ...          21.100000           39.53            16.800000   \n",
       "16856  ...          17.166667           43.79             6.400000   \n",
       "\n",
       "       atmospheric_pressure  outdoor_humidity  wind_speed  visibility_index  \\\n",
       "0                733.500000         92.000000    7.000000         63.000000   \n",
       "1                733.600000         92.000000    6.666667         59.166667   \n",
       "2                733.700000         92.000000    6.333333         55.333333   \n",
       "3                733.800000         92.000000    6.000000         51.500000   \n",
       "4                733.900000         92.000000    5.666667         47.666667   \n",
       "...                     ...               ...         ...               ...   \n",
       "16852            761.466667         68.333333    2.000000         64.666667   \n",
       "16853            752.250000         96.666667    1.000000         18.000000   \n",
       "16854            763.000000         84.166667    1.000000         60.833333   \n",
       "16855            750.166667         50.333333    6.000000         40.000000   \n",
       "16856            743.883333         81.000000    4.166667         40.000000   \n",
       "\n",
       "       dew_point  random_variable1  random_variable2  \n",
       "0       5.300000         13.275433         13.275433  \n",
       "1       5.200000         18.606195         18.606195  \n",
       "2       5.100000         28.642668         28.642668  \n",
       "3      37.673716         45.410389         45.410389  \n",
       "4       4.900000         10.084097         10.084097  \n",
       "...          ...               ...               ...  \n",
       "16852   0.366667         10.707282         10.707282  \n",
       "16853   3.150000         49.199695         49.199695  \n",
       "16854  -0.633333          6.905370          6.905370  \n",
       "16855   6.266667         25.020775         25.020775  \n",
       "16856   3.400000         26.301386               NaN  \n",
       "\n",
       "[16857 rows x 29 columns]"
      ]
     },
     "execution_count": 8,
     "metadata": {},
     "output_type": "execute_result"
    }
   ],
   "source": [
    "#will have look at our data\n",
    "df"
   ]
  },
  {
   "cell_type": "code",
   "execution_count": 9,
   "id": "843fe0b2-0157-487c-b4f5-97620ea691fd",
   "metadata": {},
   "outputs": [
    {
     "name": "stdout",
     "output_type": "stream",
     "text": [
      "<class 'pandas.core.frame.DataFrame'>\n",
      "RangeIndex: 16857 entries, 0 to 16856\n",
      "Data columns (total 29 columns):\n",
      " #   Column                        Non-Null Count  Dtype  \n",
      "---  ------                        --------------  -----  \n",
      " 0   timestamp                     16857 non-null  object \n",
      " 1   equipment_energy_consumption  16013 non-null  object \n",
      " 2   lighting_energy               16048 non-null  object \n",
      " 3   zone1_temperature             15990 non-null  object \n",
      " 4   zone1_humidity                16056 non-null  object \n",
      " 5   zone2_temperature             16004 non-null  object \n",
      " 6   zone2_humidity                15990 non-null  float64\n",
      " 7   zone3_temperature             16055 non-null  float64\n",
      " 8   zone3_humidity                15979 non-null  float64\n",
      " 9   zone4_temperature             16041 non-null  float64\n",
      " 10  zone4_humidity                16076 non-null  float64\n",
      " 11  zone5_temperature             16019 non-null  float64\n",
      " 12  zone5_humidity                16056 non-null  float64\n",
      " 13  zone6_temperature             16009 non-null  float64\n",
      " 14  zone6_humidity                16010 non-null  float64\n",
      " 15  zone7_temperature             16063 non-null  float64\n",
      " 16  zone7_humidity                16052 non-null  float64\n",
      " 17  zone8_temperature             16009 non-null  float64\n",
      " 18  zone8_humidity                16080 non-null  float64\n",
      " 19  zone9_temperature             16084 non-null  float64\n",
      " 20  zone9_humidity                15969 non-null  float64\n",
      " 21  outdoor_temperature           16051 non-null  float64\n",
      " 22  atmospheric_pressure          16015 non-null  float64\n",
      " 23  outdoor_humidity              16058 non-null  float64\n",
      " 24  wind_speed                    16029 non-null  float64\n",
      " 25  visibility_index              16042 non-null  float64\n",
      " 26  dew_point                     16031 non-null  float64\n",
      " 27  random_variable1              16031 non-null  float64\n",
      " 28  random_variable2              16033 non-null  float64\n",
      "dtypes: float64(23), object(6)\n",
      "memory usage: 3.7+ MB\n"
     ]
    }
   ],
   "source": [
    "df.info()"
   ]
  },
  {
   "cell_type": "code",
   "execution_count": 10,
   "id": "8f2ead04-29de-4a00-8b6a-0d900632e933",
   "metadata": {},
   "outputs": [],
   "source": [
    "#we can see top 6 cols are object and we also need to separate time stamp data"
   ]
  },
  {
   "cell_type": "code",
   "execution_count": 11,
   "id": "505ed7a4-6b89-4709-9405-5e230bf0a9a8",
   "metadata": {},
   "outputs": [],
   "source": [
    "#We will work on each colum one by one first lets separate data from timestamp\n",
    "df['timestamp'] = pd.to_datetime(df['timestamp'])\n",
    "\n",
    "# Extract components\n",
    "\n",
    "df['day'] = df['timestamp'].dt.day\n",
    "df['month'] = df['timestamp'].dt.month\n",
    "df['year'] = df['timestamp'].dt.year\n",
    "df['hour'] = df['timestamp'].dt.hour\n",
    "df['minute'] = df['timestamp'].dt.minute\n",
    "df['second'] = df['timestamp'].dt.second\n",
    "#will drop timestamp as it is no longer required\n",
    "df.drop(\"timestamp\",axis=1,inplace=True)"
   ]
  },
  {
   "cell_type": "code",
   "execution_count": 12,
   "id": "e88c0d86-608d-4fd5-8f85-c468cb798821",
   "metadata": {},
   "outputs": [],
   "source": [
    "#while going through the data i saw the year is 2016 at most of the places.i need to check if it is constant then we need to remove such data"
   ]
  },
  {
   "cell_type": "code",
   "execution_count": 13,
   "id": "22039fb2-1443-4011-901c-66efe38b85fe",
   "metadata": {},
   "outputs": [],
   "source": [
    "#lets check the uniqueness"
   ]
  },
  {
   "cell_type": "code",
   "execution_count": 14,
   "id": "dcfc2ba9-39c7-406e-84fc-45699b1303d1",
   "metadata": {},
   "outputs": [
    {
     "data": {
      "text/plain": [
       "array([2016], dtype=int32)"
      ]
     },
     "execution_count": 14,
     "metadata": {},
     "output_type": "execute_result"
    }
   ],
   "source": [
    "df.year.unique()"
   ]
  },
  {
   "cell_type": "code",
   "execution_count": 15,
   "id": "3c3a0e07-10b5-4add-86c0-140e69ed7bd4",
   "metadata": {},
   "outputs": [],
   "source": [
    "#see only value present is 2016 so we can drop this "
   ]
  },
  {
   "cell_type": "code",
   "execution_count": 16,
   "id": "26b53bc8-f22e-4a19-a86e-cda994ea2e7c",
   "metadata": {},
   "outputs": [],
   "source": [
    "df.drop(\"year\",inplace=True,axis=1)"
   ]
  },
  {
   "cell_type": "code",
   "execution_count": 17,
   "id": "c2e61310-b6de-4979-868d-b7070b5141e7",
   "metadata": {},
   "outputs": [],
   "source": [
    "#now lets check for other cols that we separated "
   ]
  },
  {
   "cell_type": "code",
   "execution_count": 18,
   "id": "4dccf084-1c5c-48df-be27-dbbcd664f009",
   "metadata": {},
   "outputs": [
    {
     "data": {
      "text/plain": [
       "array([11, 12, 13, 14, 15, 16, 17, 18, 19, 20, 21, 22, 23, 24, 25, 26, 27,\n",
       "       28, 29, 30, 31,  1,  2,  3,  4,  5,  6,  7,  8,  9, 10],\n",
       "      dtype=int32)"
      ]
     },
     "execution_count": 18,
     "metadata": {},
     "output_type": "execute_result"
    }
   ],
   "source": [
    "df.day.unique()"
   ]
  },
  {
   "cell_type": "code",
   "execution_count": 19,
   "id": "62669723-e5f6-4339-a650-b55dd9f2c78e",
   "metadata": {},
   "outputs": [
    {
     "data": {
      "text/plain": [
       "array([ 1,  2,  3,  4,  5,  7,  8,  9, 10, 11, 12], dtype=int32)"
      ]
     },
     "execution_count": 19,
     "metadata": {},
     "output_type": "execute_result"
    }
   ],
   "source": [
    "df.month.unique()"
   ]
  },
  {
   "cell_type": "code",
   "execution_count": 20,
   "id": "322508b9-a839-409f-abab-73a900eacbd7",
   "metadata": {},
   "outputs": [
    {
     "data": {
      "text/plain": [
       "array([0], dtype=int32)"
      ]
     },
     "execution_count": 20,
     "metadata": {},
     "output_type": "execute_result"
    }
   ],
   "source": [
    "df.second.unique()"
   ]
  },
  {
   "cell_type": "code",
   "execution_count": 21,
   "id": "d95a3ae0-c7e6-4e45-921b-feff733bf9fb",
   "metadata": {},
   "outputs": [],
   "source": [
    "#need to drop above col too as it only has value 0"
   ]
  },
  {
   "cell_type": "code",
   "execution_count": 22,
   "id": "6057a156-1dfa-4fb7-b364-6acad194852e",
   "metadata": {},
   "outputs": [],
   "source": [
    "df.drop(\"second\",inplace=True,axis=1)"
   ]
  },
  {
   "cell_type": "code",
   "execution_count": 23,
   "id": "6803a1dd-f973-4bc4-8cac-dc5ab814dbb6",
   "metadata": {},
   "outputs": [
    {
     "data": {
      "text/plain": [
       "array([ 0, 10, 20, 30, 40, 50], dtype=int32)"
      ]
     },
     "execution_count": 23,
     "metadata": {},
     "output_type": "execute_result"
    }
   ],
   "source": [
    "df.minute.unique()"
   ]
  },
  {
   "cell_type": "code",
   "execution_count": 24,
   "id": "a7039691-e4a3-4887-b91b-098580aa9dfb",
   "metadata": {},
   "outputs": [
    {
     "data": {
      "text/plain": [
       "array([17, 18, 19, 20, 21, 22, 23,  0,  1,  2,  3,  4,  5,  6,  7,  8,  9,\n",
       "       10, 11, 12, 13, 14, 15, 16], dtype=int32)"
      ]
     },
     "execution_count": 24,
     "metadata": {},
     "output_type": "execute_result"
    }
   ],
   "source": [
    "df.hour.unique()"
   ]
  },
  {
   "cell_type": "code",
   "execution_count": 25,
   "id": "59157e62-f10d-4179-a4b2-3c3d276a421b",
   "metadata": {},
   "outputs": [
    {
     "data": {
      "text/html": [
       "<div>\n",
       "<style scoped>\n",
       "    .dataframe tbody tr th:only-of-type {\n",
       "        vertical-align: middle;\n",
       "    }\n",
       "\n",
       "    .dataframe tbody tr th {\n",
       "        vertical-align: top;\n",
       "    }\n",
       "\n",
       "    .dataframe thead th {\n",
       "        text-align: right;\n",
       "    }\n",
       "</style>\n",
       "<table border=\"1\" class=\"dataframe\">\n",
       "  <thead>\n",
       "    <tr style=\"text-align: right;\">\n",
       "      <th></th>\n",
       "      <th>equipment_energy_consumption</th>\n",
       "      <th>lighting_energy</th>\n",
       "      <th>zone1_temperature</th>\n",
       "      <th>zone1_humidity</th>\n",
       "      <th>zone2_temperature</th>\n",
       "      <th>zone2_humidity</th>\n",
       "      <th>zone3_temperature</th>\n",
       "      <th>zone3_humidity</th>\n",
       "      <th>zone4_temperature</th>\n",
       "      <th>zone4_humidity</th>\n",
       "      <th>...</th>\n",
       "      <th>outdoor_humidity</th>\n",
       "      <th>wind_speed</th>\n",
       "      <th>visibility_index</th>\n",
       "      <th>dew_point</th>\n",
       "      <th>random_variable1</th>\n",
       "      <th>random_variable2</th>\n",
       "      <th>day</th>\n",
       "      <th>month</th>\n",
       "      <th>hour</th>\n",
       "      <th>minute</th>\n",
       "    </tr>\n",
       "  </thead>\n",
       "  <tbody>\n",
       "    <tr>\n",
       "      <th>0</th>\n",
       "      <td>60.0</td>\n",
       "      <td>-77.78778596503064</td>\n",
       "      <td>33.74660933896648</td>\n",
       "      <td>47.59666666666671</td>\n",
       "      <td>19.2</td>\n",
       "      <td>44.7900</td>\n",
       "      <td>19.79</td>\n",
       "      <td>NaN</td>\n",
       "      <td>19.0</td>\n",
       "      <td>45.566667</td>\n",
       "      <td>...</td>\n",
       "      <td>92.0</td>\n",
       "      <td>7.000000</td>\n",
       "      <td>63.000000</td>\n",
       "      <td>5.3</td>\n",
       "      <td>13.275433</td>\n",
       "      <td>13.275433</td>\n",
       "      <td>11</td>\n",
       "      <td>1</td>\n",
       "      <td>17</td>\n",
       "      <td>0</td>\n",
       "    </tr>\n",
       "    <tr>\n",
       "      <th>1</th>\n",
       "      <td>60.0</td>\n",
       "      <td>30.0</td>\n",
       "      <td>19.89</td>\n",
       "      <td>46.69333333333329</td>\n",
       "      <td>19.2</td>\n",
       "      <td>44.7225</td>\n",
       "      <td>19.79</td>\n",
       "      <td>44.79</td>\n",
       "      <td>19.0</td>\n",
       "      <td>45.992500</td>\n",
       "      <td>...</td>\n",
       "      <td>92.0</td>\n",
       "      <td>6.666667</td>\n",
       "      <td>59.166667</td>\n",
       "      <td>5.2</td>\n",
       "      <td>18.606195</td>\n",
       "      <td>18.606195</td>\n",
       "      <td>11</td>\n",
       "      <td>1</td>\n",
       "      <td>17</td>\n",
       "      <td>10</td>\n",
       "    </tr>\n",
       "  </tbody>\n",
       "</table>\n",
       "<p>2 rows × 32 columns</p>\n",
       "</div>"
      ],
      "text/plain": [
       "  equipment_energy_consumption     lighting_energy  zone1_temperature  \\\n",
       "0                         60.0  -77.78778596503064  33.74660933896648   \n",
       "1                         60.0                30.0              19.89   \n",
       "\n",
       "      zone1_humidity zone2_temperature  zone2_humidity  zone3_temperature  \\\n",
       "0  47.59666666666671              19.2         44.7900              19.79   \n",
       "1  46.69333333333329              19.2         44.7225              19.79   \n",
       "\n",
       "   zone3_humidity  zone4_temperature  zone4_humidity  ...  outdoor_humidity  \\\n",
       "0             NaN               19.0       45.566667  ...              92.0   \n",
       "1           44.79               19.0       45.992500  ...              92.0   \n",
       "\n",
       "   wind_speed  visibility_index  dew_point  random_variable1  \\\n",
       "0    7.000000         63.000000        5.3         13.275433   \n",
       "1    6.666667         59.166667        5.2         18.606195   \n",
       "\n",
       "   random_variable2  day  month  hour  minute  \n",
       "0         13.275433   11      1    17       0  \n",
       "1         18.606195   11      1    17      10  \n",
       "\n",
       "[2 rows x 32 columns]"
      ]
     },
     "execution_count": 25,
     "metadata": {},
     "output_type": "execute_result"
    }
   ],
   "source": [
    "#lets have a look at data again\n",
    "df.head(2)"
   ]
  },
  {
   "cell_type": "code",
   "execution_count": 26,
   "id": "d6e5dad3-0116-45dd-8863-a36d5cb0ba5a",
   "metadata": {},
   "outputs": [],
   "source": [
    "#we still need to work on cols which have object data type"
   ]
  },
  {
   "cell_type": "code",
   "execution_count": 27,
   "id": "6b31b738-ca2e-48ad-821b-cf10aac23da6",
   "metadata": {},
   "outputs": [],
   "source": [
    "#lets work on equipment_energy_consumption"
   ]
  },
  {
   "cell_type": "code",
   "execution_count": 28,
   "id": "add0d2fe-aff7-4d50-8275-c9af1f8ded07",
   "metadata": {},
   "outputs": [
    {
     "data": {
      "text/plain": [
       "array(['60.0', '50.0', nan, '70.0', '230.0', '580.0', '430.0', '250.0',\n",
       "       '100.0', '90.0', '80.0', '140.0', '120.0', '190.0', '110.0',\n",
       "       '400.0', '390.0', '240.0', '40.0', '30.0', '310.0', '380.0',\n",
       "       '370.0', '20.0', '-110.0', '260.0', '500.0', '450.0', '220.0',\n",
       "       '170.0', '290.0', '130.0', '200.0', '210.0', '-50.0', '-20.0',\n",
       "       '-944.5664110012307', '350.0', '300.0', '-400.0', '340.0', '150.0',\n",
       "       '330.0', '420.0', '520.0', '360.0', '-270.0', '-30.0', '180.0',\n",
       "       '550.0', '690.0', '620.0', '610.0', '490.0', '410.0', '320.0',\n",
       "       '270.0', '740.0', '910.0', '510.0', '790.0', '1139.9856929495108',\n",
       "       '-40.0', 'error', '460.0', '160.0', '480.0', '280.0', '-220.0',\n",
       "       '560.0', '1080.0', '750.0', '???', '470.0', '440.0', '-80.0',\n",
       "       '800.0', '-790.0', '540.0', '530.0', 'check', '660.0', '630.0',\n",
       "       '600.0', '10.0', '570.0', '830.0', '1070.0', '890.0', '590.0',\n",
       "       '-1139.9856929495108', '850.0', '710.0', '680.0', '-120.0',\n",
       "       '-310.0', 'unknown', '-60.0', '670.0', '780.0', '-450.0', '640.0',\n",
       "       '650.0', '700.0', '-70.0', '-130.0', '-280.0', '-100.0', '-340.0',\n",
       "       '-150.0', '770.0', '-230.0', '720.0', '-250.0', '-680.0', '760.0',\n",
       "       '-140.0', '860.0', '-90.0', '-500.0', '880.0', '-440.0', '730.0',\n",
       "       '900.0', '-330.0', '820.0', '870.0', '-160.0', '840.0', '-610.0',\n",
       "       '-200.0'], dtype=object)"
      ]
     },
     "execution_count": 28,
     "metadata": {},
     "output_type": "execute_result"
    }
   ],
   "source": [
    "df.equipment_energy_consumption.unique()"
   ]
  },
  {
   "cell_type": "code",
   "execution_count": 29,
   "id": "362fa402-1516-49cf-86ee-3625c4df611e",
   "metadata": {},
   "outputs": [],
   "source": [
    "# i can see there are -ve as well as unknown values"
   ]
  },
  {
   "cell_type": "code",
   "execution_count": 30,
   "id": "50cdee20-9213-45e1-91ad-ed863e38f7be",
   "metadata": {},
   "outputs": [],
   "source": [
    "df['equipment_energy_consumption'] = pd.to_numeric(df['equipment_energy_consumption'], errors='coerce')"
   ]
  },
  {
   "cell_type": "code",
   "execution_count": 31,
   "id": "dbd0e48b-a905-4883-81a4-eacd682991ee",
   "metadata": {},
   "outputs": [],
   "source": [
    "#above line will covert data which is numeric to float and data which is non numeric like unknown as NaN"
   ]
  },
  {
   "cell_type": "code",
   "execution_count": 32,
   "id": "e0402ed5-6914-4aa7-b528-1fae87d839ae",
   "metadata": {},
   "outputs": [
    {
     "data": {
      "text/plain": [
       "array([   60.        ,    50.        ,            nan,    70.        ,\n",
       "         230.        ,   580.        ,   430.        ,   250.        ,\n",
       "         100.        ,    90.        ,    80.        ,   140.        ,\n",
       "         120.        ,   190.        ,   110.        ,   400.        ,\n",
       "         390.        ,   240.        ,    40.        ,    30.        ,\n",
       "         310.        ,   380.        ,   370.        ,    20.        ,\n",
       "        -110.        ,   260.        ,   500.        ,   450.        ,\n",
       "         220.        ,   170.        ,   290.        ,   130.        ,\n",
       "         200.        ,   210.        ,   -50.        ,   -20.        ,\n",
       "        -944.566411  ,   350.        ,   300.        ,  -400.        ,\n",
       "         340.        ,   150.        ,   330.        ,   420.        ,\n",
       "         520.        ,   360.        ,  -270.        ,   -30.        ,\n",
       "         180.        ,   550.        ,   690.        ,   620.        ,\n",
       "         610.        ,   490.        ,   410.        ,   320.        ,\n",
       "         270.        ,   740.        ,   910.        ,   510.        ,\n",
       "         790.        ,  1139.98569295,   -40.        ,   460.        ,\n",
       "         160.        ,   480.        ,   280.        ,  -220.        ,\n",
       "         560.        ,  1080.        ,   750.        ,   470.        ,\n",
       "         440.        ,   -80.        ,   800.        ,  -790.        ,\n",
       "         540.        ,   530.        ,   660.        ,   630.        ,\n",
       "         600.        ,    10.        ,   570.        ,   830.        ,\n",
       "        1070.        ,   890.        ,   590.        , -1139.98569295,\n",
       "         850.        ,   710.        ,   680.        ,  -120.        ,\n",
       "        -310.        ,   -60.        ,   670.        ,   780.        ,\n",
       "        -450.        ,   640.        ,   650.        ,   700.        ,\n",
       "         -70.        ,  -130.        ,  -280.        ,  -100.        ,\n",
       "        -340.        ,  -150.        ,   770.        ,  -230.        ,\n",
       "         720.        ,  -250.        ,  -680.        ,   760.        ,\n",
       "        -140.        ,   860.        ,   -90.        ,  -500.        ,\n",
       "         880.        ,  -440.        ,   730.        ,   900.        ,\n",
       "        -330.        ,   820.        ,   870.        ,  -160.        ,\n",
       "         840.        ,  -610.        ,  -200.        ])"
      ]
     },
     "execution_count": 32,
     "metadata": {},
     "output_type": "execute_result"
    }
   ],
   "source": [
    "df.equipment_energy_consumption.unique()"
   ]
  },
  {
   "cell_type": "code",
   "execution_count": 33,
   "id": "2a7ea0e2-587e-45df-a7f2-1bad96de8000",
   "metadata": {},
   "outputs": [],
   "source": [
    "#now i dont see any non-numeric data"
   ]
  },
  {
   "cell_type": "code",
   "execution_count": 34,
   "id": "c701267f-c823-4d00-95ca-fa12a451205f",
   "metadata": {},
   "outputs": [],
   "source": [
    "#lets check how many nan values are there"
   ]
  },
  {
   "cell_type": "code",
   "execution_count": 35,
   "id": "8c1999b5-7a9b-44ef-baf8-40e71440a7f1",
   "metadata": {},
   "outputs": [
    {
     "data": {
      "text/plain": [
       "np.int64(912)"
      ]
     },
     "execution_count": 35,
     "metadata": {},
     "output_type": "execute_result"
    }
   ],
   "source": [
    "df.equipment_energy_consumption.isnull().sum()"
   ]
  },
  {
   "cell_type": "code",
   "execution_count": 36,
   "id": "4db2cdb1-c7c9-4a02-93f5-9181838369eb",
   "metadata": {},
   "outputs": [],
   "source": [
    "#equipment_energy_consumption this is our target feature so we will simply remove records with nan values as they are not of any use"
   ]
  },
  {
   "cell_type": "code",
   "execution_count": 37,
   "id": "7ccbbe97-6dd7-4c37-8122-923913cd0378",
   "metadata": {},
   "outputs": [],
   "source": [
    "#and one more thing to notice energy consumption cant be -ve so i am removing that too"
   ]
  },
  {
   "cell_type": "code",
   "execution_count": 38,
   "id": "9be8a8f4-cafc-4cd9-b790-d938259cdd65",
   "metadata": {},
   "outputs": [
    {
     "data": {
      "text/plain": [
       "np.int64(314)"
      ]
     },
     "execution_count": 38,
     "metadata": {},
     "output_type": "execute_result"
    }
   ],
   "source": [
    "(df['equipment_energy_consumption'] < 0).sum()"
   ]
  },
  {
   "cell_type": "code",
   "execution_count": 39,
   "id": "1159767b-3a8b-4577-b040-606c13022568",
   "metadata": {},
   "outputs": [],
   "source": [
    "df = df[df['equipment_energy_consumption'].notna() & (df['equipment_energy_consumption'] >= 0)]"
   ]
  },
  {
   "cell_type": "code",
   "execution_count": 40,
   "id": "f531fefe-042f-4d6f-abde-03795a645494",
   "metadata": {},
   "outputs": [
    {
     "data": {
      "text/plain": [
       "(15631, 32)"
      ]
     },
     "execution_count": 40,
     "metadata": {},
     "output_type": "execute_result"
    }
   ],
   "source": [
    "df.shape"
   ]
  },
  {
   "cell_type": "code",
   "execution_count": 41,
   "id": "041175d5-0729-4524-bad5-5fb342ee43c4",
   "metadata": {},
   "outputs": [],
   "source": [
    "#we removed few records"
   ]
  },
  {
   "cell_type": "code",
   "execution_count": 42,
   "id": "a69f9968-9c30-42de-b41e-7e95d5a5f002",
   "metadata": {},
   "outputs": [
    {
     "data": {
      "text/html": [
       "<div>\n",
       "<style scoped>\n",
       "    .dataframe tbody tr th:only-of-type {\n",
       "        vertical-align: middle;\n",
       "    }\n",
       "\n",
       "    .dataframe tbody tr th {\n",
       "        vertical-align: top;\n",
       "    }\n",
       "\n",
       "    .dataframe thead th {\n",
       "        text-align: right;\n",
       "    }\n",
       "</style>\n",
       "<table border=\"1\" class=\"dataframe\">\n",
       "  <thead>\n",
       "    <tr style=\"text-align: right;\">\n",
       "      <th></th>\n",
       "      <th>equipment_energy_consumption</th>\n",
       "      <th>zone2_humidity</th>\n",
       "      <th>zone3_temperature</th>\n",
       "      <th>zone3_humidity</th>\n",
       "      <th>zone4_temperature</th>\n",
       "      <th>zone4_humidity</th>\n",
       "      <th>zone5_temperature</th>\n",
       "      <th>zone5_humidity</th>\n",
       "      <th>zone6_temperature</th>\n",
       "      <th>zone6_humidity</th>\n",
       "      <th>...</th>\n",
       "      <th>outdoor_humidity</th>\n",
       "      <th>wind_speed</th>\n",
       "      <th>visibility_index</th>\n",
       "      <th>dew_point</th>\n",
       "      <th>random_variable1</th>\n",
       "      <th>random_variable2</th>\n",
       "      <th>day</th>\n",
       "      <th>month</th>\n",
       "      <th>hour</th>\n",
       "      <th>minute</th>\n",
       "    </tr>\n",
       "  </thead>\n",
       "  <tbody>\n",
       "    <tr>\n",
       "      <th>count</th>\n",
       "      <td>15631.000000</td>\n",
       "      <td>14828.000000</td>\n",
       "      <td>14886.000000</td>\n",
       "      <td>14823.000000</td>\n",
       "      <td>14873.000000</td>\n",
       "      <td>14911.000000</td>\n",
       "      <td>14860.000000</td>\n",
       "      <td>14897.000000</td>\n",
       "      <td>14844.000000</td>\n",
       "      <td>14850.000000</td>\n",
       "      <td>...</td>\n",
       "      <td>14893.000000</td>\n",
       "      <td>14867.000000</td>\n",
       "      <td>14883.000000</td>\n",
       "      <td>14881.000000</td>\n",
       "      <td>14858.000000</td>\n",
       "      <td>14867.000000</td>\n",
       "      <td>15631.000000</td>\n",
       "      <td>15631.000000</td>\n",
       "      <td>15631.000000</td>\n",
       "      <td>15631.000000</td>\n",
       "    </tr>\n",
       "    <tr>\n",
       "      <th>mean</th>\n",
       "      <td>108.584711</td>\n",
       "      <td>39.501397</td>\n",
       "      <td>21.669488</td>\n",
       "      <td>38.176231</td>\n",
       "      <td>20.238371</td>\n",
       "      <td>37.925650</td>\n",
       "      <td>19.053025</td>\n",
       "      <td>50.333011</td>\n",
       "      <td>6.500785</td>\n",
       "      <td>59.134224</td>\n",
       "      <td>...</td>\n",
       "      <td>79.033698</td>\n",
       "      <td>4.182040</td>\n",
       "      <td>38.412814</td>\n",
       "      <td>2.771432</td>\n",
       "      <td>24.824855</td>\n",
       "      <td>25.146877</td>\n",
       "      <td>15.853880</td>\n",
       "      <td>2.774231</td>\n",
       "      <td>11.489796</td>\n",
       "      <td>25.006078</td>\n",
       "    </tr>\n",
       "    <tr>\n",
       "      <th>std</th>\n",
       "      <td>148.628836</td>\n",
       "      <td>10.044737</td>\n",
       "      <td>2.603906</td>\n",
       "      <td>10.155610</td>\n",
       "      <td>2.803067</td>\n",
       "      <td>10.766489</td>\n",
       "      <td>2.348941</td>\n",
       "      <td>18.857234</td>\n",
       "      <td>8.827877</td>\n",
       "      <td>52.383943</td>\n",
       "      <td>...</td>\n",
       "      <td>28.399240</td>\n",
       "      <td>4.419638</td>\n",
       "      <td>21.411845</td>\n",
       "      <td>6.047731</td>\n",
       "      <td>26.269840</td>\n",
       "      <td>25.574001</td>\n",
       "      <td>8.801908</td>\n",
       "      <td>1.178889</td>\n",
       "      <td>6.935283</td>\n",
       "      <td>17.102256</td>\n",
       "    </tr>\n",
       "    <tr>\n",
       "      <th>min</th>\n",
       "      <td>10.000000</td>\n",
       "      <td>-77.265503</td>\n",
       "      <td>6.543921</td>\n",
       "      <td>-71.406273</td>\n",
       "      <td>4.613485</td>\n",
       "      <td>-81.446225</td>\n",
       "      <td>5.921094</td>\n",
       "      <td>-141.640143</td>\n",
       "      <td>-42.987365</td>\n",
       "      <td>-353.393026</td>\n",
       "      <td>...</td>\n",
       "      <td>-221.668765</td>\n",
       "      <td>-20.929527</td>\n",
       "      <td>-82.329792</td>\n",
       "      <td>-32.098095</td>\n",
       "      <td>-120.170177</td>\n",
       "      <td>-120.409590</td>\n",
       "      <td>1.000000</td>\n",
       "      <td>1.000000</td>\n",
       "      <td>0.000000</td>\n",
       "      <td>0.000000</td>\n",
       "    </tr>\n",
       "    <tr>\n",
       "      <th>25%</th>\n",
       "      <td>50.000000</td>\n",
       "      <td>37.745000</td>\n",
       "      <td>20.533333</td>\n",
       "      <td>36.626667</td>\n",
       "      <td>19.263333</td>\n",
       "      <td>35.188810</td>\n",
       "      <td>18.066667</td>\n",
       "      <td>45.290000</td>\n",
       "      <td>2.929167</td>\n",
       "      <td>36.997500</td>\n",
       "      <td>...</td>\n",
       "      <td>71.000000</td>\n",
       "      <td>2.000000</td>\n",
       "      <td>29.000000</td>\n",
       "      <td>0.450000</td>\n",
       "      <td>12.174779</td>\n",
       "      <td>12.229145</td>\n",
       "      <td>8.000000</td>\n",
       "      <td>2.000000</td>\n",
       "      <td>5.000000</td>\n",
       "      <td>10.000000</td>\n",
       "    </tr>\n",
       "    <tr>\n",
       "      <th>50%</th>\n",
       "      <td>60.000000</td>\n",
       "      <td>40.290000</td>\n",
       "      <td>21.790000</td>\n",
       "      <td>38.400000</td>\n",
       "      <td>20.290000</td>\n",
       "      <td>38.090000</td>\n",
       "      <td>19.071825</td>\n",
       "      <td>48.826667</td>\n",
       "      <td>6.263333</td>\n",
       "      <td>62.553333</td>\n",
       "      <td>...</td>\n",
       "      <td>84.166667</td>\n",
       "      <td>4.000000</td>\n",
       "      <td>40.000000</td>\n",
       "      <td>2.766667</td>\n",
       "      <td>24.883977</td>\n",
       "      <td>24.905165</td>\n",
       "      <td>16.000000</td>\n",
       "      <td>3.000000</td>\n",
       "      <td>11.000000</td>\n",
       "      <td>30.000000</td>\n",
       "    </tr>\n",
       "    <tr>\n",
       "      <th>75%</th>\n",
       "      <td>100.000000</td>\n",
       "      <td>43.000000</td>\n",
       "      <td>22.763333</td>\n",
       "      <td>41.412500</td>\n",
       "      <td>21.375714</td>\n",
       "      <td>41.545000</td>\n",
       "      <td>20.100000</td>\n",
       "      <td>53.930000</td>\n",
       "      <td>9.690000</td>\n",
       "      <td>86.590000</td>\n",
       "      <td>...</td>\n",
       "      <td>91.904762</td>\n",
       "      <td>6.000000</td>\n",
       "      <td>40.000000</td>\n",
       "      <td>5.300000</td>\n",
       "      <td>37.977137</td>\n",
       "      <td>38.025468</td>\n",
       "      <td>23.000000</td>\n",
       "      <td>4.000000</td>\n",
       "      <td>17.500000</td>\n",
       "      <td>40.000000</td>\n",
       "    </tr>\n",
       "    <tr>\n",
       "      <th>max</th>\n",
       "      <td>1139.985693</td>\n",
       "      <td>77.265503</td>\n",
       "      <td>36.823982</td>\n",
       "      <td>71.406273</td>\n",
       "      <td>35.921144</td>\n",
       "      <td>81.446225</td>\n",
       "      <td>32.157594</td>\n",
       "      <td>141.640143</td>\n",
       "      <td>55.932271</td>\n",
       "      <td>353.393026</td>\n",
       "      <td>...</td>\n",
       "      <td>221.668765</td>\n",
       "      <td>29.318719</td>\n",
       "      <td>159.606156</td>\n",
       "      <td>37.673716</td>\n",
       "      <td>170.156325</td>\n",
       "      <td>170.329617</td>\n",
       "      <td>31.000000</td>\n",
       "      <td>12.000000</td>\n",
       "      <td>23.000000</td>\n",
       "      <td>50.000000</td>\n",
       "    </tr>\n",
       "  </tbody>\n",
       "</table>\n",
       "<p>8 rows × 28 columns</p>\n",
       "</div>"
      ],
      "text/plain": [
       "       equipment_energy_consumption  zone2_humidity  zone3_temperature  \\\n",
       "count                  15631.000000    14828.000000       14886.000000   \n",
       "mean                     108.584711       39.501397          21.669488   \n",
       "std                      148.628836       10.044737           2.603906   \n",
       "min                       10.000000      -77.265503           6.543921   \n",
       "25%                       50.000000       37.745000          20.533333   \n",
       "50%                       60.000000       40.290000          21.790000   \n",
       "75%                      100.000000       43.000000          22.763333   \n",
       "max                     1139.985693       77.265503          36.823982   \n",
       "\n",
       "       zone3_humidity  zone4_temperature  zone4_humidity  zone5_temperature  \\\n",
       "count    14823.000000       14873.000000    14911.000000       14860.000000   \n",
       "mean        38.176231          20.238371       37.925650          19.053025   \n",
       "std         10.155610           2.803067       10.766489           2.348941   \n",
       "min        -71.406273           4.613485      -81.446225           5.921094   \n",
       "25%         36.626667          19.263333       35.188810          18.066667   \n",
       "50%         38.400000          20.290000       38.090000          19.071825   \n",
       "75%         41.412500          21.375714       41.545000          20.100000   \n",
       "max         71.406273          35.921144       81.446225          32.157594   \n",
       "\n",
       "       zone5_humidity  zone6_temperature  zone6_humidity  ...  \\\n",
       "count    14897.000000       14844.000000    14850.000000  ...   \n",
       "mean        50.333011           6.500785       59.134224  ...   \n",
       "std         18.857234           8.827877       52.383943  ...   \n",
       "min       -141.640143         -42.987365     -353.393026  ...   \n",
       "25%         45.290000           2.929167       36.997500  ...   \n",
       "50%         48.826667           6.263333       62.553333  ...   \n",
       "75%         53.930000           9.690000       86.590000  ...   \n",
       "max        141.640143          55.932271      353.393026  ...   \n",
       "\n",
       "       outdoor_humidity    wind_speed  visibility_index     dew_point  \\\n",
       "count      14893.000000  14867.000000      14883.000000  14881.000000   \n",
       "mean          79.033698      4.182040         38.412814      2.771432   \n",
       "std           28.399240      4.419638         21.411845      6.047731   \n",
       "min         -221.668765    -20.929527        -82.329792    -32.098095   \n",
       "25%           71.000000      2.000000         29.000000      0.450000   \n",
       "50%           84.166667      4.000000         40.000000      2.766667   \n",
       "75%           91.904762      6.000000         40.000000      5.300000   \n",
       "max          221.668765     29.318719        159.606156     37.673716   \n",
       "\n",
       "       random_variable1  random_variable2           day         month  \\\n",
       "count      14858.000000      14867.000000  15631.000000  15631.000000   \n",
       "mean          24.824855         25.146877     15.853880      2.774231   \n",
       "std           26.269840         25.574001      8.801908      1.178889   \n",
       "min         -120.170177       -120.409590      1.000000      1.000000   \n",
       "25%           12.174779         12.229145      8.000000      2.000000   \n",
       "50%           24.883977         24.905165     16.000000      3.000000   \n",
       "75%           37.977137         38.025468     23.000000      4.000000   \n",
       "max          170.156325        170.329617     31.000000     12.000000   \n",
       "\n",
       "               hour        minute  \n",
       "count  15631.000000  15631.000000  \n",
       "mean      11.489796     25.006078  \n",
       "std        6.935283     17.102256  \n",
       "min        0.000000      0.000000  \n",
       "25%        5.000000     10.000000  \n",
       "50%       11.000000     30.000000  \n",
       "75%       17.500000     40.000000  \n",
       "max       23.000000     50.000000  \n",
       "\n",
       "[8 rows x 28 columns]"
      ]
     },
     "execution_count": 42,
     "metadata": {},
     "output_type": "execute_result"
    }
   ],
   "source": [
    "df.describe()"
   ]
  },
  {
   "cell_type": "code",
   "execution_count": 43,
   "id": "e01ae203-bf33-41ae-91da-6b365098a8d9",
   "metadata": {},
   "outputs": [
    {
     "name": "stdout",
     "output_type": "stream",
     "text": [
      "<class 'pandas.core.frame.DataFrame'>\n",
      "Index: 15631 entries, 0 to 16856\n",
      "Data columns (total 32 columns):\n",
      " #   Column                        Non-Null Count  Dtype  \n",
      "---  ------                        --------------  -----  \n",
      " 0   equipment_energy_consumption  15631 non-null  float64\n",
      " 1   lighting_energy               14896 non-null  object \n",
      " 2   zone1_temperature             14829 non-null  object \n",
      " 3   zone1_humidity                14884 non-null  object \n",
      " 4   zone2_temperature             14839 non-null  object \n",
      " 5   zone2_humidity                14828 non-null  float64\n",
      " 6   zone3_temperature             14886 non-null  float64\n",
      " 7   zone3_humidity                14823 non-null  float64\n",
      " 8   zone4_temperature             14873 non-null  float64\n",
      " 9   zone4_humidity                14911 non-null  float64\n",
      " 10  zone5_temperature             14860 non-null  float64\n",
      " 11  zone5_humidity                14897 non-null  float64\n",
      " 12  zone6_temperature             14844 non-null  float64\n",
      " 13  zone6_humidity                14850 non-null  float64\n",
      " 14  zone7_temperature             14910 non-null  float64\n",
      " 15  zone7_humidity                14876 non-null  float64\n",
      " 16  zone8_temperature             14845 non-null  float64\n",
      " 17  zone8_humidity                14904 non-null  float64\n",
      " 18  zone9_temperature             14920 non-null  float64\n",
      " 19  zone9_humidity                14814 non-null  float64\n",
      " 20  outdoor_temperature           14881 non-null  float64\n",
      " 21  atmospheric_pressure          14849 non-null  float64\n",
      " 22  outdoor_humidity              14893 non-null  float64\n",
      " 23  wind_speed                    14867 non-null  float64\n",
      " 24  visibility_index              14883 non-null  float64\n",
      " 25  dew_point                     14881 non-null  float64\n",
      " 26  random_variable1              14858 non-null  float64\n",
      " 27  random_variable2              14867 non-null  float64\n",
      " 28  day                           15631 non-null  int32  \n",
      " 29  month                         15631 non-null  int32  \n",
      " 30  hour                          15631 non-null  int32  \n",
      " 31  minute                        15631 non-null  int32  \n",
      "dtypes: float64(24), int32(4), object(4)\n",
      "memory usage: 3.7+ MB\n"
     ]
    }
   ],
   "source": [
    "df.info()"
   ]
  },
  {
   "cell_type": "code",
   "execution_count": 44,
   "id": "ddf1b6ce-1b7e-48a2-8e03-fbe2c1269b41",
   "metadata": {},
   "outputs": [],
   "source": [
    "#we still need to work on those 4 cols which have object dtype"
   ]
  },
  {
   "cell_type": "code",
   "execution_count": 45,
   "id": "64444b54-02c4-424a-8920-ee0c15d2fb55",
   "metadata": {},
   "outputs": [],
   "source": [
    "#will do same process for other cols"
   ]
  },
  {
   "cell_type": "code",
   "execution_count": 46,
   "id": "40d5cc62-522f-4ddb-bb72-54f340c411c9",
   "metadata": {},
   "outputs": [
    {
     "name": "stderr",
     "output_type": "stream",
     "text": [
      "C:\\Users\\bhatk\\AppData\\Local\\Temp\\ipykernel_15812\\1034915347.py:1: SettingWithCopyWarning: \n",
      "A value is trying to be set on a copy of a slice from a DataFrame.\n",
      "Try using .loc[row_indexer,col_indexer] = value instead\n",
      "\n",
      "See the caveats in the documentation: https://pandas.pydata.org/pandas-docs/stable/user_guide/indexing.html#returning-a-view-versus-a-copy\n",
      "  df['lighting_energy'] = pd.to_numeric(df['lighting_energy'], errors='coerce')\n"
     ]
    }
   ],
   "source": [
    "df['lighting_energy'] = pd.to_numeric(df['lighting_energy'], errors='coerce')"
   ]
  },
  {
   "cell_type": "code",
   "execution_count": 47,
   "id": "2871f6ec-91da-43c1-92c6-9c08621cfd69",
   "metadata": {},
   "outputs": [
    {
     "data": {
      "text/plain": [
       "np.int64(787)"
      ]
     },
     "execution_count": 47,
     "metadata": {},
     "output_type": "execute_result"
    }
   ],
   "source": [
    "df.lighting_energy.isnull().sum()"
   ]
  },
  {
   "cell_type": "code",
   "execution_count": 48,
   "id": "a8b06109-eb18-4a5b-9da1-d6c9a5a25a03",
   "metadata": {},
   "outputs": [
    {
     "data": {
      "text/plain": [
       "np.int64(216)"
      ]
     },
     "execution_count": 48,
     "metadata": {},
     "output_type": "execute_result"
    }
   ],
   "source": [
    "(df['lighting_energy'] < 0).sum()"
   ]
  },
  {
   "cell_type": "code",
   "execution_count": 49,
   "id": "0b32cedf-357e-4596-9026-f59179883a00",
   "metadata": {},
   "outputs": [],
   "source": [
    "df = df[(df['lighting_energy'] >= 0)]"
   ]
  },
  {
   "cell_type": "code",
   "execution_count": 50,
   "id": "73fec5a1-b93f-4ebc-8269-d49692a2a11c",
   "metadata": {},
   "outputs": [
    {
     "data": {
      "text/plain": [
       "(14628, 32)"
      ]
     },
     "execution_count": 50,
     "metadata": {},
     "output_type": "execute_result"
    }
   ],
   "source": [
    "df.shape"
   ]
  },
  {
   "cell_type": "code",
   "execution_count": 51,
   "id": "627686e8-ab93-4f84-9762-73ab753b6dd9",
   "metadata": {},
   "outputs": [
    {
     "data": {
      "text/plain": [
       "lighting_energy\n",
       "0.000000     10968\n",
       "10.000000     1750\n",
       "20.000000     1245\n",
       "30.000000      436\n",
       "86.002966      156\n",
       "40.000000       65\n",
       "50.000000        6\n",
       "60.000000        1\n",
       "70.000000        1\n",
       "Name: count, dtype: int64"
      ]
     },
     "execution_count": 51,
     "metadata": {},
     "output_type": "execute_result"
    }
   ],
   "source": [
    "df.lighting_energy.value_counts()"
   ]
  },
  {
   "cell_type": "code",
   "execution_count": 52,
   "id": "b35665f1-7099-4f01-87a4-4534dd79b511",
   "metadata": {},
   "outputs": [],
   "source": [
    "#we dont have -ve vaalue now for energy"
   ]
  },
  {
   "cell_type": "code",
   "execution_count": 53,
   "id": "64026a2e-1bb5-453b-9364-4b354482578e",
   "metadata": {},
   "outputs": [
    {
     "data": {
      "text/plain": [
       "np.int64(823)"
      ]
     },
     "execution_count": 53,
     "metadata": {},
     "output_type": "execute_result"
    }
   ],
   "source": [
    "df['zone1_temperature'] = pd.to_numeric(df['zone1_temperature'], errors='coerce')\n",
    "df.zone1_temperature.isnull().sum()"
   ]
  },
  {
   "cell_type": "code",
   "execution_count": 54,
   "id": "503ea524-2d53-4153-a19d-42c49faaf8a3",
   "metadata": {},
   "outputs": [
    {
     "data": {
      "text/plain": [
       "np.int64(770)"
      ]
     },
     "execution_count": 54,
     "metadata": {},
     "output_type": "execute_result"
    }
   ],
   "source": [
    "df['zone1_humidity'] = pd.to_numeric(df['zone1_humidity'], errors='coerce')\n",
    "df.zone1_humidity.isnull().sum()"
   ]
  },
  {
   "cell_type": "code",
   "execution_count": 55,
   "id": "67dd0e42-ce74-45c7-b989-e8124d135b3f",
   "metadata": {},
   "outputs": [
    {
     "data": {
      "text/plain": [
       "np.int64(129)"
      ]
     },
     "execution_count": 55,
     "metadata": {},
     "output_type": "execute_result"
    }
   ],
   "source": [
    "(df['zone1_humidity'] < 0).sum()"
   ]
  },
  {
   "cell_type": "code",
   "execution_count": 56,
   "id": "876e981e-9b81-403f-9767-8dbed72f5407",
   "metadata": {},
   "outputs": [],
   "source": [
    "# as i saw most of cols have -ve values but when i went thrugh the data i felt like this is basically a data entry mistake (i am deciding to remove -ve sign)"
   ]
  },
  {
   "cell_type": "code",
   "execution_count": 57,
   "id": "feacb0ca-d99b-4496-9716-7a72dc14fcd3",
   "metadata": {},
   "outputs": [],
   "source": [
    "#some cols cant be -ve like beow"
   ]
  },
  {
   "cell_type": "code",
   "execution_count": 58,
   "id": "659a6db6-8b26-46ae-a26b-f9c9fded9d28",
   "metadata": {},
   "outputs": [],
   "source": [
    "non_negative_cols=[\"equipment_energy_consumption\",\"lighting_energy\",\"zone1_humidity\",\"zone2_humidity\",\"zone3_humidity\",\"zone4_humidity\",\n",
    "                   \"zone5_humidity\",\"zone6_humidity\",\"zone7_humidity\",\"zone8_humidity\",\"zone9_humidity\",\"atmospheric_pressure\",\n",
    "                   \"outdoor_humidity\",\"wind_speed\",\"visibility_index\"\n",
    "                  ]\n"
   ]
  },
  {
   "cell_type": "code",
   "execution_count": 59,
   "id": "8a61ab0f-c2c0-4a0a-a36d-c8d764282c40",
   "metadata": {},
   "outputs": [],
   "source": [
    "df[non_negative_cols] = df[non_negative_cols].abs()"
   ]
  },
  {
   "cell_type": "code",
   "execution_count": 60,
   "id": "f0d74fd4-383c-44a2-885d-819917878e02",
   "metadata": {},
   "outputs": [],
   "source": [
    "#lets check if we have -ve values"
   ]
  },
  {
   "cell_type": "code",
   "execution_count": 61,
   "id": "5ef6f9ed-30a0-4b7f-915e-50dbfb2758e2",
   "metadata": {},
   "outputs": [
    {
     "data": {
      "text/plain": [
       "np.int64(0)"
      ]
     },
     "execution_count": 61,
     "metadata": {},
     "output_type": "execute_result"
    }
   ],
   "source": [
    "(df['zone1_humidity'] < 0).sum()"
   ]
  },
  {
   "cell_type": "code",
   "execution_count": 62,
   "id": "0b7ac54a-8167-4f00-8036-c47bb4383076",
   "metadata": {},
   "outputs": [
    {
     "data": {
      "text/plain": [
       "np.int64(0)"
      ]
     },
     "execution_count": 62,
     "metadata": {},
     "output_type": "execute_result"
    }
   ],
   "source": [
    "(df['zone3_humidity'] < 0).sum()"
   ]
  },
  {
   "cell_type": "code",
   "execution_count": 63,
   "id": "e3219c90-1fd6-4ad6-b9e0-b5b6da47f533",
   "metadata": {},
   "outputs": [
    {
     "name": "stdout",
     "output_type": "stream",
     "text": [
      "<class 'pandas.core.frame.DataFrame'>\n",
      "Index: 14628 entries, 1 to 16856\n",
      "Data columns (total 32 columns):\n",
      " #   Column                        Non-Null Count  Dtype  \n",
      "---  ------                        --------------  -----  \n",
      " 0   equipment_energy_consumption  14628 non-null  float64\n",
      " 1   lighting_energy               14628 non-null  float64\n",
      " 2   zone1_temperature             13805 non-null  float64\n",
      " 3   zone1_humidity                13858 non-null  float64\n",
      " 4   zone2_temperature             13890 non-null  object \n",
      " 5   zone2_humidity                13865 non-null  float64\n",
      " 6   zone3_temperature             13937 non-null  float64\n",
      " 7   zone3_humidity                13869 non-null  float64\n",
      " 8   zone4_temperature             13912 non-null  float64\n",
      " 9   zone4_humidity                13956 non-null  float64\n",
      " 10  zone5_temperature             13910 non-null  float64\n",
      " 11  zone5_humidity                13932 non-null  float64\n",
      " 12  zone6_temperature             13888 non-null  float64\n",
      " 13  zone6_humidity                13900 non-null  float64\n",
      " 14  zone7_temperature             13955 non-null  float64\n",
      " 15  zone7_humidity                13926 non-null  float64\n",
      " 16  zone8_temperature             13888 non-null  float64\n",
      " 17  zone8_humidity                13945 non-null  float64\n",
      " 18  zone9_temperature             13962 non-null  float64\n",
      " 19  zone9_humidity                13870 non-null  float64\n",
      " 20  outdoor_temperature           13932 non-null  float64\n",
      " 21  atmospheric_pressure          13898 non-null  float64\n",
      " 22  outdoor_humidity              13932 non-null  float64\n",
      " 23  wind_speed                    13914 non-null  float64\n",
      " 24  visibility_index              13927 non-null  float64\n",
      " 25  dew_point                     13925 non-null  float64\n",
      " 26  random_variable1              13922 non-null  float64\n",
      " 27  random_variable2              13911 non-null  float64\n",
      " 28  day                           14628 non-null  int32  \n",
      " 29  month                         14628 non-null  int32  \n",
      " 30  hour                          14628 non-null  int32  \n",
      " 31  minute                        14628 non-null  int32  \n",
      "dtypes: float64(27), int32(4), object(1)\n",
      "memory usage: 3.5+ MB\n"
     ]
    }
   ],
   "source": [
    "df.info()"
   ]
  },
  {
   "cell_type": "code",
   "execution_count": 64,
   "id": "ce114299-f08d-4a8d-94e2-5f6282dacd26",
   "metadata": {},
   "outputs": [],
   "source": [
    "#lets change zone2 temperature"
   ]
  },
  {
   "cell_type": "code",
   "execution_count": 65,
   "id": "0bb8fc2e-2864-45c0-81ab-54d92323c294",
   "metadata": {},
   "outputs": [],
   "source": [
    "df['zone2_temperature'] = pd.to_numeric(df['zone2_temperature'], errors='coerce')\n"
   ]
  },
  {
   "cell_type": "code",
   "execution_count": 66,
   "id": "3535f4a0-ceef-4dde-a030-40ace992dcb4",
   "metadata": {},
   "outputs": [
    {
     "name": "stdout",
     "output_type": "stream",
     "text": [
      "<class 'pandas.core.frame.DataFrame'>\n",
      "Index: 14628 entries, 1 to 16856\n",
      "Data columns (total 32 columns):\n",
      " #   Column                        Non-Null Count  Dtype  \n",
      "---  ------                        --------------  -----  \n",
      " 0   equipment_energy_consumption  14628 non-null  float64\n",
      " 1   lighting_energy               14628 non-null  float64\n",
      " 2   zone1_temperature             13805 non-null  float64\n",
      " 3   zone1_humidity                13858 non-null  float64\n",
      " 4   zone2_temperature             13829 non-null  float64\n",
      " 5   zone2_humidity                13865 non-null  float64\n",
      " 6   zone3_temperature             13937 non-null  float64\n",
      " 7   zone3_humidity                13869 non-null  float64\n",
      " 8   zone4_temperature             13912 non-null  float64\n",
      " 9   zone4_humidity                13956 non-null  float64\n",
      " 10  zone5_temperature             13910 non-null  float64\n",
      " 11  zone5_humidity                13932 non-null  float64\n",
      " 12  zone6_temperature             13888 non-null  float64\n",
      " 13  zone6_humidity                13900 non-null  float64\n",
      " 14  zone7_temperature             13955 non-null  float64\n",
      " 15  zone7_humidity                13926 non-null  float64\n",
      " 16  zone8_temperature             13888 non-null  float64\n",
      " 17  zone8_humidity                13945 non-null  float64\n",
      " 18  zone9_temperature             13962 non-null  float64\n",
      " 19  zone9_humidity                13870 non-null  float64\n",
      " 20  outdoor_temperature           13932 non-null  float64\n",
      " 21  atmospheric_pressure          13898 non-null  float64\n",
      " 22  outdoor_humidity              13932 non-null  float64\n",
      " 23  wind_speed                    13914 non-null  float64\n",
      " 24  visibility_index              13927 non-null  float64\n",
      " 25  dew_point                     13925 non-null  float64\n",
      " 26  random_variable1              13922 non-null  float64\n",
      " 27  random_variable2              13911 non-null  float64\n",
      " 28  day                           14628 non-null  int32  \n",
      " 29  month                         14628 non-null  int32  \n",
      " 30  hour                          14628 non-null  int32  \n",
      " 31  minute                        14628 non-null  int32  \n",
      "dtypes: float64(28), int32(4)\n",
      "memory usage: 3.5 MB\n"
     ]
    }
   ],
   "source": [
    "df.info()"
   ]
  },
  {
   "cell_type": "code",
   "execution_count": 67,
   "id": "eb20f477-6b6b-44a9-bd54-41c676b06ac1",
   "metadata": {},
   "outputs": [],
   "source": [
    "#now evrything is numeric and we also have dealth with -ve values "
   ]
  },
  {
   "cell_type": "code",
   "execution_count": 68,
   "id": "9c56c6fe-c9c1-4c0e-886f-5fc0ecbb4a25",
   "metadata": {},
   "outputs": [],
   "source": [
    "#lets check for df.non_negative_cols  cols that they have non -ve value"
   ]
  },
  {
   "cell_type": "code",
   "execution_count": 69,
   "id": "4fecdf4c-0509-4334-9030-b94f5d61821f",
   "metadata": {},
   "outputs": [
    {
     "name": "stdout",
     "output_type": "stream",
     "text": [
      "Column 'equipment_energy_consumption' has no negative values.\n",
      "Column 'lighting_energy' has no negative values.\n",
      "Column 'zone1_humidity' has no negative values.\n",
      "Column 'zone2_humidity' has no negative values.\n",
      "Column 'zone3_humidity' has no negative values.\n",
      "Column 'zone4_humidity' has no negative values.\n",
      "Column 'zone5_humidity' has no negative values.\n",
      "Column 'zone6_humidity' has no negative values.\n",
      "Column 'zone7_humidity' has no negative values.\n",
      "Column 'zone8_humidity' has no negative values.\n",
      "Column 'zone9_humidity' has no negative values.\n",
      "Column 'atmospheric_pressure' has no negative values.\n",
      "Column 'outdoor_humidity' has no negative values.\n",
      "Column 'wind_speed' has no negative values.\n",
      "Column 'visibility_index' has no negative values.\n"
     ]
    }
   ],
   "source": [
    "for col in non_negative_cols:\n",
    "    num_negatives = (df[col] < 0).sum()\n",
    "    if num_negatives > 0:\n",
    "        print(f\"Column '{col}' has {num_negatives} negative values.\")\n",
    "    else:\n",
    "        print(f\"Column '{col}' has no negative values.\")"
   ]
  },
  {
   "cell_type": "code",
   "execution_count": 70,
   "id": "08bbd648-0308-43a5-8bcd-ca1169cde243",
   "metadata": {},
   "outputs": [],
   "source": [
    "#we are good to go now"
   ]
  },
  {
   "cell_type": "code",
   "execution_count": 71,
   "id": "07416bc1-825f-43d4-8c36-d08e431ed94e",
   "metadata": {},
   "outputs": [
    {
     "data": {
      "text/plain": [
       "equipment_energy_consumption      0\n",
       "lighting_energy                   0\n",
       "zone1_temperature               823\n",
       "zone1_humidity                  770\n",
       "zone2_temperature               799\n",
       "zone2_humidity                  763\n",
       "zone3_temperature               691\n",
       "zone3_humidity                  759\n",
       "zone4_temperature               716\n",
       "zone4_humidity                  672\n",
       "zone5_temperature               718\n",
       "zone5_humidity                  696\n",
       "zone6_temperature               740\n",
       "zone6_humidity                  728\n",
       "zone7_temperature               673\n",
       "zone7_humidity                  702\n",
       "zone8_temperature               740\n",
       "zone8_humidity                  683\n",
       "zone9_temperature               666\n",
       "zone9_humidity                  758\n",
       "outdoor_temperature             696\n",
       "atmospheric_pressure            730\n",
       "outdoor_humidity                696\n",
       "wind_speed                      714\n",
       "visibility_index                701\n",
       "dew_point                       703\n",
       "random_variable1                706\n",
       "random_variable2                717\n",
       "day                               0\n",
       "month                             0\n",
       "hour                              0\n",
       "minute                            0\n",
       "dtype: int64"
      ]
     },
     "execution_count": 71,
     "metadata": {},
     "output_type": "execute_result"
    }
   ],
   "source": [
    "df.isnull().sum()"
   ]
  },
  {
   "cell_type": "code",
   "execution_count": 72,
   "id": "c5c59364-6ba0-4e77-9b58-34e3e883bd84",
   "metadata": {},
   "outputs": [],
   "source": [
    "#we still have many NaN values "
   ]
  },
  {
   "cell_type": "code",
   "execution_count": 73,
   "id": "512f33ad-f00a-491d-abee-04de45b7e964",
   "metadata": {},
   "outputs": [],
   "source": [
    "#we cants drop they as we will lost too much data"
   ]
  },
  {
   "cell_type": "code",
   "execution_count": 74,
   "id": "164ca0ce-e5a3-4626-9966-184972bd194b",
   "metadata": {},
   "outputs": [],
   "source": [
    "#we can replace them with median() "
   ]
  },
  {
   "cell_type": "code",
   "execution_count": 75,
   "id": "adeb9abd-0934-48bf-a809-fcd94c954e8a",
   "metadata": {},
   "outputs": [],
   "source": [
    "#i prefer median over mean as it is less sensitive to outliers"
   ]
  },
  {
   "cell_type": "code",
   "execution_count": 76,
   "id": "9a9ff15c-3856-426f-94ae-c2de789e290f",
   "metadata": {},
   "outputs": [],
   "source": [
    "df = df.fillna(df.median(numeric_only=True))"
   ]
  },
  {
   "cell_type": "code",
   "execution_count": 77,
   "id": "b7127361-d677-4b04-b4a2-4b71c1872474",
   "metadata": {},
   "outputs": [],
   "source": [
    "#now again lets check id there are any NaN values"
   ]
  },
  {
   "cell_type": "code",
   "execution_count": 78,
   "id": "8165e834-d3f5-4193-a0ed-18aefa9ee3c8",
   "metadata": {},
   "outputs": [
    {
     "data": {
      "text/plain": [
       "equipment_energy_consumption    0\n",
       "lighting_energy                 0\n",
       "zone1_temperature               0\n",
       "zone1_humidity                  0\n",
       "zone2_temperature               0\n",
       "zone2_humidity                  0\n",
       "zone3_temperature               0\n",
       "zone3_humidity                  0\n",
       "zone4_temperature               0\n",
       "zone4_humidity                  0\n",
       "zone5_temperature               0\n",
       "zone5_humidity                  0\n",
       "zone6_temperature               0\n",
       "zone6_humidity                  0\n",
       "zone7_temperature               0\n",
       "zone7_humidity                  0\n",
       "zone8_temperature               0\n",
       "zone8_humidity                  0\n",
       "zone9_temperature               0\n",
       "zone9_humidity                  0\n",
       "outdoor_temperature             0\n",
       "atmospheric_pressure            0\n",
       "outdoor_humidity                0\n",
       "wind_speed                      0\n",
       "visibility_index                0\n",
       "dew_point                       0\n",
       "random_variable1                0\n",
       "random_variable2                0\n",
       "day                             0\n",
       "month                           0\n",
       "hour                            0\n",
       "minute                          0\n",
       "dtype: int64"
      ]
     },
     "execution_count": 78,
     "metadata": {},
     "output_type": "execute_result"
    }
   ],
   "source": [
    "df.isnull().sum()"
   ]
  },
  {
   "cell_type": "code",
   "execution_count": 79,
   "id": "8226d837-9a93-40ab-b5dd-46c3c240e626",
   "metadata": {},
   "outputs": [],
   "source": [
    "#good we got no null value"
   ]
  },
  {
   "cell_type": "code",
   "execution_count": 80,
   "id": "c1755ff3-d737-4f10-afb6-19117384496f",
   "metadata": {},
   "outputs": [],
   "source": [
    "#now lets check for corelation with our target col"
   ]
  },
  {
   "cell_type": "code",
   "execution_count": 81,
   "id": "b6b71d9c-7ccd-4f43-aa0b-e55b545bbba6",
   "metadata": {},
   "outputs": [
    {
     "name": "stdout",
     "output_type": "stream",
     "text": [
      "equipment_energy_consumption    1.000000\n",
      "hour                            0.148416\n",
      "lighting_energy                 0.097414\n",
      "zone2_temperature               0.050420\n",
      "zone3_temperature               0.039592\n",
      "outdoor_temperature             0.039282\n",
      "zone1_humidity                  0.038539\n",
      "zone6_temperature               0.033800\n",
      "zone1_temperature               0.030467\n",
      "wind_speed                      0.029838\n",
      "zone4_temperature               0.027392\n",
      "zone3_humidity                  0.021299\n",
      "zone8_temperature               0.012441\n",
      "zone9_temperature               0.012117\n",
      "dew_point                       0.010237\n",
      "zone5_temperature               0.007106\n",
      "zone5_humidity                  0.006572\n",
      "zone4_humidity                  0.005046\n",
      "visibility_index                0.005022\n",
      "minute                          0.002646\n",
      "zone7_temperature               0.001085\n",
      "month                          -0.003680\n",
      "random_variable2               -0.007603\n",
      "day                            -0.007671\n",
      "random_variable1               -0.011098\n",
      "atmospheric_pressure           -0.016714\n",
      "zone7_humidity                 -0.019608\n",
      "zone2_humidity                 -0.019961\n",
      "zone6_humidity                 -0.021338\n",
      "zone9_humidity                 -0.026539\n",
      "zone8_humidity                 -0.051147\n",
      "outdoor_humidity               -0.066081\n",
      "Name: equipment_energy_consumption, dtype: float64\n"
     ]
    }
   ],
   "source": [
    "correlations = df.corr(numeric_only=True)['equipment_energy_consumption'].sort_values(ascending=False)\n",
    "print(correlations)"
   ]
  },
  {
   "cell_type": "markdown",
   "id": "1343c8ad-aeb5-4446-bb80-57b93f054c3a",
   "metadata": {},
   "source": [
    "#conclusion"
   ]
  },
  {
   "cell_type": "markdown",
   "id": "3fc3cc1f-84cb-492c-b27b-f2372eeef960",
   "metadata": {},
   "source": [
    "Strongest Correlation (Self):\n",
    "\n",
    "equipment_energy_consumption has a perfect correlation with itself (1.000), as expected.\n",
    "\n",
    "Moderately Positive Correlation:\n",
    "\n",
    "hour (0.15): Suggests some time-of-day effect — energy use may be higher during working hours.\n",
    "\n",
    "lighting_energy (0.097): Indicates that lighting usage is somewhat aligned with equipment energy use, but the correlation is not strong.\n",
    "\n",
    "zone2_temperature (0.050) and other zone temperatures (0.01–0.05): Weak positive influence, possibly due to HVAC-related equipment usage.\n",
    "\n",
    "Weak or Negligible Correlations:\n",
    "\n",
    "Most temperature, humidity, and environmental variables (e.g., wind_speed, dew_point, visibility_index) have very low correlation (<0.05), implying a minimal direct relationship.\n",
    "\n",
    "Negative Correlations:\n",
    "\n",
    "outdoor_humidity (–0.066): Slight inverse relation — high humidity might slightly reduce internal equipment use (possibly due to HVAC adjustment).\n",
    "\n",
    "Other humidity and random variables (e.g., zone8_humidity, atmospheric_pressure) also show weak negative correlations, likely not practically significant.\n",
    "\n"
   ]
  },
  {
   "cell_type": "code",
   "execution_count": 82,
   "id": "7ca279da-0ff4-48d7-ab45-f88ec286534c",
   "metadata": {},
   "outputs": [],
   "source": [
    "#now lets deal with outliers this might increase corelation as ouliers sometimes affect the corelation"
   ]
  },
  {
   "cell_type": "code",
   "execution_count": 83,
   "id": "e4bf4486-7363-411c-949d-c4b26fd9eec2",
   "metadata": {},
   "outputs": [
    {
     "name": "stdout",
     "output_type": "stream",
     "text": [
      "equipment_energy_consumption    1.000000\n",
      "hour                            0.348319\n",
      "zone8_temperature               0.279279\n",
      "zone2_temperature               0.267131\n",
      "zone6_temperature               0.243109\n",
      "outdoor_temperature             0.224840\n",
      "zone1_temperature               0.217857\n",
      "zone9_temperature               0.182050\n",
      "zone7_temperature               0.176840\n",
      "zone3_temperature               0.175902\n",
      "zone4_temperature               0.172146\n",
      "zone5_temperature               0.164409\n",
      "month                           0.095955\n",
      "dew_point                       0.086681\n",
      "wind_speed                      0.072890\n",
      "day                             0.066185\n",
      "visibility_index                0.045242\n",
      "zone1_humidity                  0.036593\n",
      "minute                         -0.007676\n",
      "random_variable1               -0.017908\n",
      "random_variable2               -0.022397\n",
      "zone4_humidity                 -0.035728\n",
      "zone2_humidity                 -0.087923\n",
      "zone5_humidity                 -0.088448\n",
      "atmospheric_pressure           -0.090521\n",
      "zone3_humidity                 -0.118322\n",
      "zone7_humidity                 -0.145297\n",
      "zone9_humidity                 -0.192133\n",
      "zone6_humidity                 -0.220800\n",
      "outdoor_humidity               -0.237584\n",
      "zone8_humidity                 -0.237747\n",
      "lighting_energy                      NaN\n",
      "Name: equipment_energy_consumption, dtype: float64\n"
     ]
    }
   ],
   "source": [
    "# Define a function to remove outliers using IQR\n",
    "def remove_outliers_iqr(df, cols):\n",
    "    for col in cols:\n",
    "        Q1 = df[col].quantile(0.25)\n",
    "        Q3 = df[col].quantile(0.75)\n",
    "        IQR = Q3 - Q1\n",
    "        lower = Q1 - 1.5 * IQR\n",
    "        upper = Q3 + 1.5 * IQR\n",
    "        df = df[(df[col] >= lower) & (df[col] <= upper)]\n",
    "    return df\n",
    "\n",
    "# Remove outliers for key numerical columns\n",
    "df_clean = remove_outliers_iqr(df.copy(), df.select_dtypes(include='number').columns)\n",
    "\n",
    "# Recalculate correlation\n",
    "correlations_clean = df_clean.corr(numeric_only=True)['equipment_energy_consumption'].sort_values(ascending=False)\n",
    "print(correlations_clean)\n"
   ]
  },
  {
   "cell_type": "code",
   "execution_count": 84,
   "id": "3437fcf6-4f22-4a4a-9f6a-0d97061957f2",
   "metadata": {},
   "outputs": [],
   "source": [
    "#corelation improved"
   ]
  },
  {
   "cell_type": "code",
   "execution_count": 85,
   "id": "a5f0bacb-63d2-44be-b6fe-a0a713897687",
   "metadata": {},
   "outputs": [
    {
     "data": {
      "text/plain": [
       "(3978, 32)"
      ]
     },
     "execution_count": 85,
     "metadata": {},
     "output_type": "execute_result"
    }
   ],
   "source": [
    "df_clean.shape"
   ]
  },
  {
   "cell_type": "code",
   "execution_count": 86,
   "id": "38c4575a-684f-4b9c-a43f-4b44b2d83be9",
   "metadata": {},
   "outputs": [],
   "source": [
    "#but we cant afford it as we lost almost 13k records"
   ]
  },
  {
   "cell_type": "code",
   "execution_count": 87,
   "id": "6e71af16-9e8f-41d1-ad30-23bd9068d21b",
   "metadata": {},
   "outputs": [],
   "source": [
    "#lets try to relax the factor from 1.5 to 2"
   ]
  },
  {
   "cell_type": "code",
   "execution_count": 88,
   "id": "136579b0-4aea-4e70-94e7-2b57e7a1c1cb",
   "metadata": {},
   "outputs": [
    {
     "name": "stdout",
     "output_type": "stream",
     "text": [
      "equipment_energy_consumption    1.000000\n",
      "hour                            0.355239\n",
      "zone8_temperature               0.313576\n",
      "zone2_temperature               0.290109\n",
      "zone1_temperature               0.275558\n",
      "zone6_temperature               0.242883\n",
      "zone3_temperature               0.235343\n",
      "zone4_temperature               0.234114\n",
      "zone9_temperature               0.232814\n",
      "zone7_temperature               0.229812\n",
      "outdoor_temperature             0.228048\n",
      "zone5_temperature               0.219309\n",
      "month                           0.178495\n",
      "dew_point                       0.055056\n",
      "wind_speed                      0.024220\n",
      "visibility_index                0.014837\n",
      "minute                         -0.005683\n",
      "day                            -0.010808\n",
      "random_variable1               -0.018875\n",
      "random_variable2               -0.022214\n",
      "zone1_humidity                 -0.030476\n",
      "atmospheric_pressure           -0.096243\n",
      "zone5_humidity                 -0.115400\n",
      "zone4_humidity                 -0.117746\n",
      "zone2_humidity                 -0.150583\n",
      "zone3_humidity                 -0.163343\n",
      "zone7_humidity                 -0.200935\n",
      "zone9_humidity                 -0.221416\n",
      "zone6_humidity                 -0.268028\n",
      "outdoor_humidity               -0.272856\n",
      "zone8_humidity                 -0.276771\n",
      "lighting_energy                      NaN\n",
      "Name: equipment_energy_consumption, dtype: float64\n"
     ]
    }
   ],
   "source": [
    "# Define a function to remove outliers using IQR\n",
    "def remove_outliers_iqr(df, cols):\n",
    "    for col in cols:\n",
    "        Q1 = df[col].quantile(0.25)\n",
    "        Q3 = df[col].quantile(0.75)\n",
    "        IQR = Q3 - Q1\n",
    "        lower = Q1 - 2.0 * IQR\n",
    "        upper = Q3 + 2.0 * IQR\n",
    "        df = df[(df[col] >= lower) & (df[col] <= upper)]\n",
    "    return df\n",
    "\n",
    "# Remove outliers for key numerical columns\n",
    "df_clean = remove_outliers_iqr(df.copy(), df.select_dtypes(include='number').columns)\n",
    "\n",
    "# Recalculate correlation\n",
    "correlations_clean = df_clean.corr(numeric_only=True)['equipment_energy_consumption'].sort_values(ascending=False)\n",
    "print(correlations_clean)\n"
   ]
  },
  {
   "cell_type": "code",
   "execution_count": 92,
   "id": "6ea9a79a-0581-41cf-ae24-396ac74a33d3",
   "metadata": {},
   "outputs": [],
   "source": [
    "#slightly increased but dta has been lost so need to do clipping"
   ]
  },
  {
   "cell_type": "code",
   "execution_count": 93,
   "id": "cca58bd5-3646-4dec-835c-703debbb269a",
   "metadata": {},
   "outputs": [
    {
     "data": {
      "text/plain": [
       "(4943, 32)"
      ]
     },
     "execution_count": 93,
     "metadata": {},
     "output_type": "execute_result"
    }
   ],
   "source": [
    "df_clean.shape"
   ]
  },
  {
   "cell_type": "code",
   "execution_count": 94,
   "id": "7686f8d3-0f07-48b2-a9e4-3636ded29abc",
   "metadata": {},
   "outputs": [],
   "source": [
    "def cap_outliers_iqr(df, cols, factor=1.5):\n",
    "    df_capped = df.copy()\n",
    "    for col in cols:\n",
    "        Q1 = df[col].quantile(0.25)\n",
    "        Q3 = df[col].quantile(0.75)\n",
    "        IQR = Q3 - Q1\n",
    "        lower = Q1 - factor * IQR\n",
    "        upper = Q3 + factor * IQR\n",
    "        df_capped[col] = df[col].clip(lower, upper)\n",
    "    return df_capped\n",
    "\n",
    "# Apply to all numeric columns or a subset\n",
    "numeric_cols = df.select_dtypes(include='number').columns\n",
    "df_capped = cap_outliers_iqr(df, numeric_cols, factor=1.5)\n"
   ]
  },
  {
   "cell_type": "code",
   "execution_count": 95,
   "id": "aa01afa5-4cbd-4cbc-a624-fc5b6106d9e8",
   "metadata": {},
   "outputs": [
    {
     "data": {
      "text/plain": [
       "(14628, 32)"
      ]
     },
     "execution_count": 95,
     "metadata": {},
     "output_type": "execute_result"
    }
   ],
   "source": [
    "df_capped.shape"
   ]
  },
  {
   "cell_type": "code",
   "execution_count": 96,
   "id": "5fee9307-5cd0-4b14-a903-ddb32c61ef0d",
   "metadata": {},
   "outputs": [],
   "source": [
    "#well this is not bad"
   ]
  },
  {
   "cell_type": "code",
   "execution_count": 97,
   "id": "c8ceb2c5-7f43-4994-a7b2-0d540bf48f8a",
   "metadata": {},
   "outputs": [
    {
     "name": "stdout",
     "output_type": "stream",
     "text": [
      "equipment_energy_consumption    1.000000\n",
      "hour                            0.343576\n",
      "lighting_energy                 0.263177\n",
      "zone2_temperature               0.209005\n",
      "zone6_temperature               0.163289\n",
      "zone1_temperature               0.159118\n",
      "zone3_temperature               0.156701\n",
      "outdoor_temperature             0.149608\n",
      "zone8_temperature               0.133746\n",
      "zone4_temperature               0.121905\n",
      "zone5_temperature               0.089474\n",
      "zone1_humidity                  0.088047\n",
      "zone7_temperature               0.077066\n",
      "wind_speed                      0.072066\n",
      "zone9_temperature               0.069979\n",
      "dew_point                       0.047787\n",
      "month                           0.037614\n",
      "zone3_humidity                  0.010769\n",
      "visibility_index                0.003008\n",
      "minute                         -0.000609\n",
      "random_variable2               -0.006871\n",
      "zone5_humidity                 -0.008816\n",
      "zone4_humidity                 -0.008882\n",
      "random_variable1               -0.009213\n",
      "day                            -0.021042\n",
      "atmospheric_pressure           -0.061458\n",
      "zone2_humidity                 -0.068219\n",
      "zone7_humidity                 -0.094976\n",
      "zone9_humidity                 -0.110644\n",
      "zone6_humidity                 -0.122286\n",
      "zone8_humidity                 -0.155511\n",
      "outdoor_humidity               -0.183012\n",
      "Name: equipment_energy_consumption, dtype: float64\n"
     ]
    }
   ],
   "source": [
    "correlations_clean = df_capped.corr(numeric_only=True)['equipment_energy_consumption'].sort_values(ascending=False)\n",
    "print(correlations_clean)"
   ]
  },
  {
   "cell_type": "code",
   "execution_count": 98,
   "id": "80752215-e59d-435d-aa9d-de27d4ef22d0",
   "metadata": {},
   "outputs": [],
   "source": [
    "# this iss better than removing outlires as we didnt loose much data"
   ]
  },
  {
   "cell_type": "code",
   "execution_count": 99,
   "id": "4585ea77-b73c-46d5-8a56-dd4b01defdaf",
   "metadata": {},
   "outputs": [],
   "source": [
    "# as i can see there are some cols which does not have much corelation with our target value"
   ]
  },
  {
   "cell_type": "code",
   "execution_count": 100,
   "id": "f0f745ef-f1fe-4fde-82a6-0825d2c46129",
   "metadata": {},
   "outputs": [],
   "source": [
    "#so we will remove them (they are not much useful and dont affect insights )"
   ]
  },
  {
   "cell_type": "code",
   "execution_count": 101,
   "id": "9395cf05-8e73-45c2-88de-00d21a9c7f05",
   "metadata": {},
   "outputs": [],
   "source": [
    "# List of columns to drop\n",
    "cols_to_drop = [\n",
    "    'minute', \n",
    "    'visibility_index', \n",
    "    'zone3_humidity', \n",
    "    'zone4_humidity', \n",
    "    'zone5_humidity', \n",
    "    'random_variable1', \n",
    "    'random_variable2', \n",
    "    'day'\n",
    "]"
   ]
  },
  {
   "cell_type": "code",
   "execution_count": 102,
   "id": "843280b0-2ebc-4ba4-8a8e-b9cfee7919c0",
   "metadata": {},
   "outputs": [],
   "source": [
    "df_reduced = df_capped.drop(cols_to_drop, axis=1)"
   ]
  },
  {
   "cell_type": "code",
   "execution_count": 103,
   "id": "29492df8-e2fd-4095-8a3b-bded494ee137",
   "metadata": {},
   "outputs": [
    {
     "data": {
      "text/html": [
       "<div>\n",
       "<style scoped>\n",
       "    .dataframe tbody tr th:only-of-type {\n",
       "        vertical-align: middle;\n",
       "    }\n",
       "\n",
       "    .dataframe tbody tr th {\n",
       "        vertical-align: top;\n",
       "    }\n",
       "\n",
       "    .dataframe thead th {\n",
       "        text-align: right;\n",
       "    }\n",
       "</style>\n",
       "<table border=\"1\" class=\"dataframe\">\n",
       "  <thead>\n",
       "    <tr style=\"text-align: right;\">\n",
       "      <th></th>\n",
       "      <th>equipment_energy_consumption</th>\n",
       "      <th>lighting_energy</th>\n",
       "      <th>zone1_temperature</th>\n",
       "      <th>zone1_humidity</th>\n",
       "      <th>zone2_temperature</th>\n",
       "      <th>zone2_humidity</th>\n",
       "      <th>zone3_temperature</th>\n",
       "      <th>zone4_temperature</th>\n",
       "      <th>zone5_temperature</th>\n",
       "      <th>zone6_temperature</th>\n",
       "      <th>...</th>\n",
       "      <th>zone8_humidity</th>\n",
       "      <th>zone9_temperature</th>\n",
       "      <th>zone9_humidity</th>\n",
       "      <th>outdoor_temperature</th>\n",
       "      <th>atmospheric_pressure</th>\n",
       "      <th>outdoor_humidity</th>\n",
       "      <th>wind_speed</th>\n",
       "      <th>dew_point</th>\n",
       "      <th>month</th>\n",
       "      <th>hour</th>\n",
       "    </tr>\n",
       "  </thead>\n",
       "  <tbody>\n",
       "    <tr>\n",
       "      <th>1</th>\n",
       "      <td>60.0</td>\n",
       "      <td>25.0</td>\n",
       "      <td>19.89</td>\n",
       "      <td>46.693333</td>\n",
       "      <td>19.2</td>\n",
       "      <td>44.722500</td>\n",
       "      <td>19.79</td>\n",
       "      <td>19.00</td>\n",
       "      <td>17.166667</td>\n",
       "      <td>6.833333</td>\n",
       "      <td>...</td>\n",
       "      <td>48.863333</td>\n",
       "      <td>17.066667</td>\n",
       "      <td>45.560000</td>\n",
       "      <td>6.483333</td>\n",
       "      <td>735.125</td>\n",
       "      <td>92.0</td>\n",
       "      <td>6.666667</td>\n",
       "      <td>5.200000</td>\n",
       "      <td>1</td>\n",
       "      <td>17</td>\n",
       "    </tr>\n",
       "    <tr>\n",
       "      <th>2</th>\n",
       "      <td>50.0</td>\n",
       "      <td>25.0</td>\n",
       "      <td>19.89</td>\n",
       "      <td>46.300000</td>\n",
       "      <td>19.2</td>\n",
       "      <td>44.626667</td>\n",
       "      <td>19.79</td>\n",
       "      <td>24.24</td>\n",
       "      <td>19.100000</td>\n",
       "      <td>6.560000</td>\n",
       "      <td>...</td>\n",
       "      <td>48.730000</td>\n",
       "      <td>17.000000</td>\n",
       "      <td>45.500000</td>\n",
       "      <td>6.366667</td>\n",
       "      <td>735.125</td>\n",
       "      <td>92.0</td>\n",
       "      <td>6.333333</td>\n",
       "      <td>5.100000</td>\n",
       "      <td>1</td>\n",
       "      <td>17</td>\n",
       "    </tr>\n",
       "    <tr>\n",
       "      <th>3</th>\n",
       "      <td>50.0</td>\n",
       "      <td>25.0</td>\n",
       "      <td>24.35</td>\n",
       "      <td>46.066667</td>\n",
       "      <td>19.2</td>\n",
       "      <td>44.590000</td>\n",
       "      <td>19.79</td>\n",
       "      <td>20.29</td>\n",
       "      <td>17.166667</td>\n",
       "      <td>6.433333</td>\n",
       "      <td>...</td>\n",
       "      <td>55.957440</td>\n",
       "      <td>17.000000</td>\n",
       "      <td>45.400000</td>\n",
       "      <td>6.250000</td>\n",
       "      <td>735.125</td>\n",
       "      <td>92.0</td>\n",
       "      <td>6.000000</td>\n",
       "      <td>11.958333</td>\n",
       "      <td>1</td>\n",
       "      <td>17</td>\n",
       "    </tr>\n",
       "    <tr>\n",
       "      <th>4</th>\n",
       "      <td>60.0</td>\n",
       "      <td>25.0</td>\n",
       "      <td>19.89</td>\n",
       "      <td>46.333333</td>\n",
       "      <td>19.2</td>\n",
       "      <td>44.530000</td>\n",
       "      <td>19.79</td>\n",
       "      <td>18.89</td>\n",
       "      <td>17.200000</td>\n",
       "      <td>6.366667</td>\n",
       "      <td>...</td>\n",
       "      <td>48.590000</td>\n",
       "      <td>14.575000</td>\n",
       "      <td>45.400000</td>\n",
       "      <td>6.133333</td>\n",
       "      <td>735.125</td>\n",
       "      <td>92.0</td>\n",
       "      <td>5.666667</td>\n",
       "      <td>4.900000</td>\n",
       "      <td>1</td>\n",
       "      <td>17</td>\n",
       "    </tr>\n",
       "    <tr>\n",
       "      <th>5</th>\n",
       "      <td>50.0</td>\n",
       "      <td>25.0</td>\n",
       "      <td>19.89</td>\n",
       "      <td>46.026667</td>\n",
       "      <td>19.2</td>\n",
       "      <td>44.500000</td>\n",
       "      <td>19.79</td>\n",
       "      <td>18.89</td>\n",
       "      <td>19.100000</td>\n",
       "      <td>6.300000</td>\n",
       "      <td>...</td>\n",
       "      <td>48.590000</td>\n",
       "      <td>17.000000</td>\n",
       "      <td>40.446429</td>\n",
       "      <td>6.016667</td>\n",
       "      <td>735.125</td>\n",
       "      <td>92.0</td>\n",
       "      <td>5.333333</td>\n",
       "      <td>4.800000</td>\n",
       "      <td>1</td>\n",
       "      <td>17</td>\n",
       "    </tr>\n",
       "  </tbody>\n",
       "</table>\n",
       "<p>5 rows × 24 columns</p>\n",
       "</div>"
      ],
      "text/plain": [
       "   equipment_energy_consumption  lighting_energy  zone1_temperature  \\\n",
       "1                          60.0             25.0              19.89   \n",
       "2                          50.0             25.0              19.89   \n",
       "3                          50.0             25.0              24.35   \n",
       "4                          60.0             25.0              19.89   \n",
       "5                          50.0             25.0              19.89   \n",
       "\n",
       "   zone1_humidity  zone2_temperature  zone2_humidity  zone3_temperature  \\\n",
       "1       46.693333               19.2       44.722500              19.79   \n",
       "2       46.300000               19.2       44.626667              19.79   \n",
       "3       46.066667               19.2       44.590000              19.79   \n",
       "4       46.333333               19.2       44.530000              19.79   \n",
       "5       46.026667               19.2       44.500000              19.79   \n",
       "\n",
       "   zone4_temperature  zone5_temperature  zone6_temperature  ...  \\\n",
       "1              19.00          17.166667           6.833333  ...   \n",
       "2              24.24          19.100000           6.560000  ...   \n",
       "3              20.29          17.166667           6.433333  ...   \n",
       "4              18.89          17.200000           6.366667  ...   \n",
       "5              18.89          19.100000           6.300000  ...   \n",
       "\n",
       "   zone8_humidity  zone9_temperature  zone9_humidity  outdoor_temperature  \\\n",
       "1       48.863333          17.066667       45.560000             6.483333   \n",
       "2       48.730000          17.000000       45.500000             6.366667   \n",
       "3       55.957440          17.000000       45.400000             6.250000   \n",
       "4       48.590000          14.575000       45.400000             6.133333   \n",
       "5       48.590000          17.000000       40.446429             6.016667   \n",
       "\n",
       "   atmospheric_pressure  outdoor_humidity  wind_speed  dew_point  month  hour  \n",
       "1               735.125              92.0    6.666667   5.200000      1    17  \n",
       "2               735.125              92.0    6.333333   5.100000      1    17  \n",
       "3               735.125              92.0    6.000000  11.958333      1    17  \n",
       "4               735.125              92.0    5.666667   4.900000      1    17  \n",
       "5               735.125              92.0    5.333333   4.800000      1    17  \n",
       "\n",
       "[5 rows x 24 columns]"
      ]
     },
     "execution_count": 103,
     "metadata": {},
     "output_type": "execute_result"
    }
   ],
   "source": [
    "df_reduced.head()"
   ]
  },
  {
   "cell_type": "code",
   "execution_count": 105,
   "id": "cc1adc10-ea5a-434e-88c3-c76ed2f7ec10",
   "metadata": {},
   "outputs": [],
   "source": [
    "#now u can see number of colums has been reduced"
   ]
  },
  {
   "cell_type": "code",
   "execution_count": 106,
   "id": "c7def88f-747b-4603-91df-acc9ca26cd99",
   "metadata": {},
   "outputs": [],
   "source": [
    "#now we can to train_test_split"
   ]
  },
  {
   "cell_type": "code",
   "execution_count": 107,
   "id": "2d41712c-4ecd-4017-8b07-e0ce339577c2",
   "metadata": {},
   "outputs": [],
   "source": [
    "from sklearn.model_selection import train_test_split\n",
    "\n",
    "x = df_reduced.drop(columns=['equipment_energy_consumption'])\n",
    "y = df_reduced['equipment_energy_consumption']\n",
    "\n",
    "x_train, x_test, y_train, y_test = train_test_split(x, y, test_size=0.3, random_state=42)\n"
   ]
  },
  {
   "cell_type": "code",
   "execution_count": 108,
   "id": "93732dc2-85ca-44ef-93a3-fe0187481633",
   "metadata": {},
   "outputs": [
    {
     "data": {
      "text/html": [
       "<div>\n",
       "<style scoped>\n",
       "    .dataframe tbody tr th:only-of-type {\n",
       "        vertical-align: middle;\n",
       "    }\n",
       "\n",
       "    .dataframe tbody tr th {\n",
       "        vertical-align: top;\n",
       "    }\n",
       "\n",
       "    .dataframe thead th {\n",
       "        text-align: right;\n",
       "    }\n",
       "</style>\n",
       "<table border=\"1\" class=\"dataframe\">\n",
       "  <thead>\n",
       "    <tr style=\"text-align: right;\">\n",
       "      <th></th>\n",
       "      <th>lighting_energy</th>\n",
       "      <th>zone1_temperature</th>\n",
       "      <th>zone1_humidity</th>\n",
       "      <th>zone2_temperature</th>\n",
       "      <th>zone2_humidity</th>\n",
       "      <th>zone3_temperature</th>\n",
       "      <th>zone4_temperature</th>\n",
       "      <th>zone5_temperature</th>\n",
       "      <th>zone6_temperature</th>\n",
       "      <th>zone6_humidity</th>\n",
       "      <th>...</th>\n",
       "      <th>zone8_humidity</th>\n",
       "      <th>zone9_temperature</th>\n",
       "      <th>zone9_humidity</th>\n",
       "      <th>outdoor_temperature</th>\n",
       "      <th>atmospheric_pressure</th>\n",
       "      <th>outdoor_humidity</th>\n",
       "      <th>wind_speed</th>\n",
       "      <th>dew_point</th>\n",
       "      <th>month</th>\n",
       "      <th>hour</th>\n",
       "    </tr>\n",
       "  </thead>\n",
       "  <tbody>\n",
       "    <tr>\n",
       "      <th>1</th>\n",
       "      <td>25.0</td>\n",
       "      <td>19.890000</td>\n",
       "      <td>46.693333</td>\n",
       "      <td>19.200000</td>\n",
       "      <td>44.722500</td>\n",
       "      <td>19.79</td>\n",
       "      <td>19.00</td>\n",
       "      <td>17.166667</td>\n",
       "      <td>6.833333</td>\n",
       "      <td>84.063333</td>\n",
       "      <td>...</td>\n",
       "      <td>48.863333</td>\n",
       "      <td>17.066667</td>\n",
       "      <td>45.560000</td>\n",
       "      <td>6.483333</td>\n",
       "      <td>735.125000</td>\n",
       "      <td>92.000000</td>\n",
       "      <td>6.666667</td>\n",
       "      <td>5.200000</td>\n",
       "      <td>1</td>\n",
       "      <td>17</td>\n",
       "    </tr>\n",
       "    <tr>\n",
       "      <th>2</th>\n",
       "      <td>25.0</td>\n",
       "      <td>19.890000</td>\n",
       "      <td>46.300000</td>\n",
       "      <td>19.200000</td>\n",
       "      <td>44.626667</td>\n",
       "      <td>19.79</td>\n",
       "      <td>24.24</td>\n",
       "      <td>19.100000</td>\n",
       "      <td>6.560000</td>\n",
       "      <td>83.156667</td>\n",
       "      <td>...</td>\n",
       "      <td>48.730000</td>\n",
       "      <td>17.000000</td>\n",
       "      <td>45.500000</td>\n",
       "      <td>6.366667</td>\n",
       "      <td>735.125000</td>\n",
       "      <td>92.000000</td>\n",
       "      <td>6.333333</td>\n",
       "      <td>5.100000</td>\n",
       "      <td>1</td>\n",
       "      <td>17</td>\n",
       "    </tr>\n",
       "    <tr>\n",
       "      <th>3</th>\n",
       "      <td>25.0</td>\n",
       "      <td>24.350000</td>\n",
       "      <td>46.066667</td>\n",
       "      <td>19.200000</td>\n",
       "      <td>44.590000</td>\n",
       "      <td>19.79</td>\n",
       "      <td>20.29</td>\n",
       "      <td>17.166667</td>\n",
       "      <td>6.433333</td>\n",
       "      <td>83.423333</td>\n",
       "      <td>...</td>\n",
       "      <td>55.957440</td>\n",
       "      <td>17.000000</td>\n",
       "      <td>45.400000</td>\n",
       "      <td>6.250000</td>\n",
       "      <td>735.125000</td>\n",
       "      <td>92.000000</td>\n",
       "      <td>6.000000</td>\n",
       "      <td>11.958333</td>\n",
       "      <td>1</td>\n",
       "      <td>17</td>\n",
       "    </tr>\n",
       "    <tr>\n",
       "      <th>4</th>\n",
       "      <td>25.0</td>\n",
       "      <td>19.890000</td>\n",
       "      <td>46.333333</td>\n",
       "      <td>19.200000</td>\n",
       "      <td>44.530000</td>\n",
       "      <td>19.79</td>\n",
       "      <td>18.89</td>\n",
       "      <td>17.200000</td>\n",
       "      <td>6.366667</td>\n",
       "      <td>84.893333</td>\n",
       "      <td>...</td>\n",
       "      <td>48.590000</td>\n",
       "      <td>14.575000</td>\n",
       "      <td>45.400000</td>\n",
       "      <td>6.133333</td>\n",
       "      <td>735.125000</td>\n",
       "      <td>92.000000</td>\n",
       "      <td>5.666667</td>\n",
       "      <td>4.900000</td>\n",
       "      <td>1</td>\n",
       "      <td>17</td>\n",
       "    </tr>\n",
       "    <tr>\n",
       "      <th>5</th>\n",
       "      <td>25.0</td>\n",
       "      <td>19.890000</td>\n",
       "      <td>46.026667</td>\n",
       "      <td>19.200000</td>\n",
       "      <td>44.500000</td>\n",
       "      <td>19.79</td>\n",
       "      <td>18.89</td>\n",
       "      <td>19.100000</td>\n",
       "      <td>6.300000</td>\n",
       "      <td>85.766667</td>\n",
       "      <td>...</td>\n",
       "      <td>48.590000</td>\n",
       "      <td>17.000000</td>\n",
       "      <td>40.446429</td>\n",
       "      <td>6.016667</td>\n",
       "      <td>735.125000</td>\n",
       "      <td>92.000000</td>\n",
       "      <td>5.333333</td>\n",
       "      <td>4.800000</td>\n",
       "      <td>1</td>\n",
       "      <td>17</td>\n",
       "    </tr>\n",
       "    <tr>\n",
       "      <th>...</th>\n",
       "      <td>...</td>\n",
       "      <td>...</td>\n",
       "      <td>...</td>\n",
       "      <td>...</td>\n",
       "      <td>...</td>\n",
       "      <td>...</td>\n",
       "      <td>...</td>\n",
       "      <td>...</td>\n",
       "      <td>...</td>\n",
       "      <td>...</td>\n",
       "      <td>...</td>\n",
       "      <td>...</td>\n",
       "      <td>...</td>\n",
       "      <td>...</td>\n",
       "      <td>...</td>\n",
       "      <td>...</td>\n",
       "      <td>...</td>\n",
       "      <td>...</td>\n",
       "      <td>...</td>\n",
       "      <td>...</td>\n",
       "      <td>...</td>\n",
       "    </tr>\n",
       "    <tr>\n",
       "      <th>16852</th>\n",
       "      <td>20.0</td>\n",
       "      <td>22.100000</td>\n",
       "      <td>38.723333</td>\n",
       "      <td>19.790000</td>\n",
       "      <td>39.566667</td>\n",
       "      <td>21.29</td>\n",
       "      <td>21.39</td>\n",
       "      <td>19.100000</td>\n",
       "      <td>4.660000</td>\n",
       "      <td>35.656667</td>\n",
       "      <td>...</td>\n",
       "      <td>36.900000</td>\n",
       "      <td>18.100000</td>\n",
       "      <td>40.090000</td>\n",
       "      <td>5.816667</td>\n",
       "      <td>761.466667</td>\n",
       "      <td>68.333333</td>\n",
       "      <td>2.000000</td>\n",
       "      <td>0.366667</td>\n",
       "      <td>7</td>\n",
       "      <td>20</td>\n",
       "    </tr>\n",
       "    <tr>\n",
       "      <th>16853</th>\n",
       "      <td>25.0</td>\n",
       "      <td>21.290000</td>\n",
       "      <td>39.626667</td>\n",
       "      <td>18.100000</td>\n",
       "      <td>44.290000</td>\n",
       "      <td>22.39</td>\n",
       "      <td>20.29</td>\n",
       "      <td>19.847143</td>\n",
       "      <td>1.500000</td>\n",
       "      <td>54.626667</td>\n",
       "      <td>...</td>\n",
       "      <td>38.236000</td>\n",
       "      <td>20.200000</td>\n",
       "      <td>44.500000</td>\n",
       "      <td>3.683333</td>\n",
       "      <td>752.250000</td>\n",
       "      <td>96.666667</td>\n",
       "      <td>1.000000</td>\n",
       "      <td>3.150000</td>\n",
       "      <td>7</td>\n",
       "      <td>6</td>\n",
       "    </tr>\n",
       "    <tr>\n",
       "      <th>16854</th>\n",
       "      <td>0.0</td>\n",
       "      <td>21.390000</td>\n",
       "      <td>37.590000</td>\n",
       "      <td>18.463333</td>\n",
       "      <td>39.966667</td>\n",
       "      <td>21.10</td>\n",
       "      <td>20.60</td>\n",
       "      <td>18.290000</td>\n",
       "      <td>1.826667</td>\n",
       "      <td>59.126667</td>\n",
       "      <td>...</td>\n",
       "      <td>41.360000</td>\n",
       "      <td>18.100000</td>\n",
       "      <td>40.200000</td>\n",
       "      <td>1.750000</td>\n",
       "      <td>763.000000</td>\n",
       "      <td>84.166667</td>\n",
       "      <td>1.000000</td>\n",
       "      <td>-0.633333</td>\n",
       "      <td>7</td>\n",
       "      <td>0</td>\n",
       "    </tr>\n",
       "    <tr>\n",
       "      <th>16855</th>\n",
       "      <td>0.0</td>\n",
       "      <td>22.500000</td>\n",
       "      <td>39.360000</td>\n",
       "      <td>23.600000</td>\n",
       "      <td>35.730000</td>\n",
       "      <td>23.10</td>\n",
       "      <td>22.29</td>\n",
       "      <td>20.937143</td>\n",
       "      <td>19.166667</td>\n",
       "      <td>3.600000</td>\n",
       "      <td>...</td>\n",
       "      <td>39.500000</td>\n",
       "      <td>21.100000</td>\n",
       "      <td>39.530000</td>\n",
       "      <td>16.800000</td>\n",
       "      <td>750.166667</td>\n",
       "      <td>50.333333</td>\n",
       "      <td>6.000000</td>\n",
       "      <td>6.266667</td>\n",
       "      <td>7</td>\n",
       "      <td>13</td>\n",
       "    </tr>\n",
       "    <tr>\n",
       "      <th>16856</th>\n",
       "      <td>0.0</td>\n",
       "      <td>20.066667</td>\n",
       "      <td>43.863333</td>\n",
       "      <td>19.133333</td>\n",
       "      <td>42.863333</td>\n",
       "      <td>19.89</td>\n",
       "      <td>19.60</td>\n",
       "      <td>17.700000</td>\n",
       "      <td>7.000000</td>\n",
       "      <td>76.833333</td>\n",
       "      <td>...</td>\n",
       "      <td>46.223333</td>\n",
       "      <td>17.166667</td>\n",
       "      <td>43.790000</td>\n",
       "      <td>6.400000</td>\n",
       "      <td>743.883333</td>\n",
       "      <td>81.000000</td>\n",
       "      <td>4.166667</td>\n",
       "      <td>3.400000</td>\n",
       "      <td>7</td>\n",
       "      <td>15</td>\n",
       "    </tr>\n",
       "  </tbody>\n",
       "</table>\n",
       "<p>14628 rows × 23 columns</p>\n",
       "</div>"
      ],
      "text/plain": [
       "       lighting_energy  zone1_temperature  zone1_humidity  zone2_temperature  \\\n",
       "1                 25.0          19.890000       46.693333          19.200000   \n",
       "2                 25.0          19.890000       46.300000          19.200000   \n",
       "3                 25.0          24.350000       46.066667          19.200000   \n",
       "4                 25.0          19.890000       46.333333          19.200000   \n",
       "5                 25.0          19.890000       46.026667          19.200000   \n",
       "...                ...                ...             ...                ...   \n",
       "16852             20.0          22.100000       38.723333          19.790000   \n",
       "16853             25.0          21.290000       39.626667          18.100000   \n",
       "16854              0.0          21.390000       37.590000          18.463333   \n",
       "16855              0.0          22.500000       39.360000          23.600000   \n",
       "16856              0.0          20.066667       43.863333          19.133333   \n",
       "\n",
       "       zone2_humidity  zone3_temperature  zone4_temperature  \\\n",
       "1           44.722500              19.79              19.00   \n",
       "2           44.626667              19.79              24.24   \n",
       "3           44.590000              19.79              20.29   \n",
       "4           44.530000              19.79              18.89   \n",
       "5           44.500000              19.79              18.89   \n",
       "...               ...                ...                ...   \n",
       "16852       39.566667              21.29              21.39   \n",
       "16853       44.290000              22.39              20.29   \n",
       "16854       39.966667              21.10              20.60   \n",
       "16855       35.730000              23.10              22.29   \n",
       "16856       42.863333              19.89              19.60   \n",
       "\n",
       "       zone5_temperature  zone6_temperature  zone6_humidity  ...  \\\n",
       "1              17.166667           6.833333       84.063333  ...   \n",
       "2              19.100000           6.560000       83.156667  ...   \n",
       "3              17.166667           6.433333       83.423333  ...   \n",
       "4              17.200000           6.366667       84.893333  ...   \n",
       "5              19.100000           6.300000       85.766667  ...   \n",
       "...                  ...                ...             ...  ...   \n",
       "16852          19.100000           4.660000       35.656667  ...   \n",
       "16853          19.847143           1.500000       54.626667  ...   \n",
       "16854          18.290000           1.826667       59.126667  ...   \n",
       "16855          20.937143          19.166667        3.600000  ...   \n",
       "16856          17.700000           7.000000       76.833333  ...   \n",
       "\n",
       "       zone8_humidity  zone9_temperature  zone9_humidity  outdoor_temperature  \\\n",
       "1           48.863333          17.066667       45.560000             6.483333   \n",
       "2           48.730000          17.000000       45.500000             6.366667   \n",
       "3           55.957440          17.000000       45.400000             6.250000   \n",
       "4           48.590000          14.575000       45.400000             6.133333   \n",
       "5           48.590000          17.000000       40.446429             6.016667   \n",
       "...               ...                ...             ...                  ...   \n",
       "16852       36.900000          18.100000       40.090000             5.816667   \n",
       "16853       38.236000          20.200000       44.500000             3.683333   \n",
       "16854       41.360000          18.100000       40.200000             1.750000   \n",
       "16855       39.500000          21.100000       39.530000            16.800000   \n",
       "16856       46.223333          17.166667       43.790000             6.400000   \n",
       "\n",
       "       atmospheric_pressure  outdoor_humidity  wind_speed  dew_point  month  \\\n",
       "1                735.125000         92.000000    6.666667   5.200000      1   \n",
       "2                735.125000         92.000000    6.333333   5.100000      1   \n",
       "3                735.125000         92.000000    6.000000  11.958333      1   \n",
       "4                735.125000         92.000000    5.666667   4.900000      1   \n",
       "5                735.125000         92.000000    5.333333   4.800000      1   \n",
       "...                     ...               ...         ...        ...    ...   \n",
       "16852            761.466667         68.333333    2.000000   0.366667      7   \n",
       "16853            752.250000         96.666667    1.000000   3.150000      7   \n",
       "16854            763.000000         84.166667    1.000000  -0.633333      7   \n",
       "16855            750.166667         50.333333    6.000000   6.266667      7   \n",
       "16856            743.883333         81.000000    4.166667   3.400000      7   \n",
       "\n",
       "       hour  \n",
       "1        17  \n",
       "2        17  \n",
       "3        17  \n",
       "4        17  \n",
       "5        17  \n",
       "...     ...  \n",
       "16852    20  \n",
       "16853     6  \n",
       "16854     0  \n",
       "16855    13  \n",
       "16856    15  \n",
       "\n",
       "[14628 rows x 23 columns]"
      ]
     },
     "execution_count": 108,
     "metadata": {},
     "output_type": "execute_result"
    }
   ],
   "source": [
    "x"
   ]
  },
  {
   "cell_type": "code",
   "execution_count": 109,
   "id": "dcc079a2-101b-43c6-bb6b-04c527976924",
   "metadata": {},
   "outputs": [
    {
     "data": {
      "text/plain": [
       "1         60.0\n",
       "2         50.0\n",
       "3         50.0\n",
       "4         60.0\n",
       "5         50.0\n",
       "         ...  \n",
       "16852    175.0\n",
       "16853     50.0\n",
       "16854     50.0\n",
       "16855     80.0\n",
       "16856     30.0\n",
       "Name: equipment_energy_consumption, Length: 14628, dtype: float64"
      ]
     },
     "execution_count": 109,
     "metadata": {},
     "output_type": "execute_result"
    }
   ],
   "source": [
    "y"
   ]
  },
  {
   "cell_type": "code",
   "execution_count": 110,
   "id": "33801e6b-b92b-4f1f-8724-5a922e2f5467",
   "metadata": {},
   "outputs": [],
   "source": [
    "#we have split our data into train(70%) and test(30%)"
   ]
  },
  {
   "cell_type": "code",
   "execution_count": 111,
   "id": "61a6c3eb-a6b8-488d-93ca-35e1f0eec603",
   "metadata": {},
   "outputs": [
    {
     "data": {
      "text/html": [
       "<style>#sk-container-id-1 {\n",
       "  /* Definition of color scheme common for light and dark mode */\n",
       "  --sklearn-color-text: black;\n",
       "  --sklearn-color-line: gray;\n",
       "  /* Definition of color scheme for unfitted estimators */\n",
       "  --sklearn-color-unfitted-level-0: #fff5e6;\n",
       "  --sklearn-color-unfitted-level-1: #f6e4d2;\n",
       "  --sklearn-color-unfitted-level-2: #ffe0b3;\n",
       "  --sklearn-color-unfitted-level-3: chocolate;\n",
       "  /* Definition of color scheme for fitted estimators */\n",
       "  --sklearn-color-fitted-level-0: #f0f8ff;\n",
       "  --sklearn-color-fitted-level-1: #d4ebff;\n",
       "  --sklearn-color-fitted-level-2: #b3dbfd;\n",
       "  --sklearn-color-fitted-level-3: cornflowerblue;\n",
       "\n",
       "  /* Specific color for light theme */\n",
       "  --sklearn-color-text-on-default-background: var(--sg-text-color, var(--theme-code-foreground, var(--jp-content-font-color1, black)));\n",
       "  --sklearn-color-background: var(--sg-background-color, var(--theme-background, var(--jp-layout-color0, white)));\n",
       "  --sklearn-color-border-box: var(--sg-text-color, var(--theme-code-foreground, var(--jp-content-font-color1, black)));\n",
       "  --sklearn-color-icon: #696969;\n",
       "\n",
       "  @media (prefers-color-scheme: dark) {\n",
       "    /* Redefinition of color scheme for dark theme */\n",
       "    --sklearn-color-text-on-default-background: var(--sg-text-color, var(--theme-code-foreground, var(--jp-content-font-color1, white)));\n",
       "    --sklearn-color-background: var(--sg-background-color, var(--theme-background, var(--jp-layout-color0, #111)));\n",
       "    --sklearn-color-border-box: var(--sg-text-color, var(--theme-code-foreground, var(--jp-content-font-color1, white)));\n",
       "    --sklearn-color-icon: #878787;\n",
       "  }\n",
       "}\n",
       "\n",
       "#sk-container-id-1 {\n",
       "  color: var(--sklearn-color-text);\n",
       "}\n",
       "\n",
       "#sk-container-id-1 pre {\n",
       "  padding: 0;\n",
       "}\n",
       "\n",
       "#sk-container-id-1 input.sk-hidden--visually {\n",
       "  border: 0;\n",
       "  clip: rect(1px 1px 1px 1px);\n",
       "  clip: rect(1px, 1px, 1px, 1px);\n",
       "  height: 1px;\n",
       "  margin: -1px;\n",
       "  overflow: hidden;\n",
       "  padding: 0;\n",
       "  position: absolute;\n",
       "  width: 1px;\n",
       "}\n",
       "\n",
       "#sk-container-id-1 div.sk-dashed-wrapped {\n",
       "  border: 1px dashed var(--sklearn-color-line);\n",
       "  margin: 0 0.4em 0.5em 0.4em;\n",
       "  box-sizing: border-box;\n",
       "  padding-bottom: 0.4em;\n",
       "  background-color: var(--sklearn-color-background);\n",
       "}\n",
       "\n",
       "#sk-container-id-1 div.sk-container {\n",
       "  /* jupyter's `normalize.less` sets `[hidden] { display: none; }`\n",
       "     but bootstrap.min.css set `[hidden] { display: none !important; }`\n",
       "     so we also need the `!important` here to be able to override the\n",
       "     default hidden behavior on the sphinx rendered scikit-learn.org.\n",
       "     See: https://github.com/scikit-learn/scikit-learn/issues/21755 */\n",
       "  display: inline-block !important;\n",
       "  position: relative;\n",
       "}\n",
       "\n",
       "#sk-container-id-1 div.sk-text-repr-fallback {\n",
       "  display: none;\n",
       "}\n",
       "\n",
       "div.sk-parallel-item,\n",
       "div.sk-serial,\n",
       "div.sk-item {\n",
       "  /* draw centered vertical line to link estimators */\n",
       "  background-image: linear-gradient(var(--sklearn-color-text-on-default-background), var(--sklearn-color-text-on-default-background));\n",
       "  background-size: 2px 100%;\n",
       "  background-repeat: no-repeat;\n",
       "  background-position: center center;\n",
       "}\n",
       "\n",
       "/* Parallel-specific style estimator block */\n",
       "\n",
       "#sk-container-id-1 div.sk-parallel-item::after {\n",
       "  content: \"\";\n",
       "  width: 100%;\n",
       "  border-bottom: 2px solid var(--sklearn-color-text-on-default-background);\n",
       "  flex-grow: 1;\n",
       "}\n",
       "\n",
       "#sk-container-id-1 div.sk-parallel {\n",
       "  display: flex;\n",
       "  align-items: stretch;\n",
       "  justify-content: center;\n",
       "  background-color: var(--sklearn-color-background);\n",
       "  position: relative;\n",
       "}\n",
       "\n",
       "#sk-container-id-1 div.sk-parallel-item {\n",
       "  display: flex;\n",
       "  flex-direction: column;\n",
       "}\n",
       "\n",
       "#sk-container-id-1 div.sk-parallel-item:first-child::after {\n",
       "  align-self: flex-end;\n",
       "  width: 50%;\n",
       "}\n",
       "\n",
       "#sk-container-id-1 div.sk-parallel-item:last-child::after {\n",
       "  align-self: flex-start;\n",
       "  width: 50%;\n",
       "}\n",
       "\n",
       "#sk-container-id-1 div.sk-parallel-item:only-child::after {\n",
       "  width: 0;\n",
       "}\n",
       "\n",
       "/* Serial-specific style estimator block */\n",
       "\n",
       "#sk-container-id-1 div.sk-serial {\n",
       "  display: flex;\n",
       "  flex-direction: column;\n",
       "  align-items: center;\n",
       "  background-color: var(--sklearn-color-background);\n",
       "  padding-right: 1em;\n",
       "  padding-left: 1em;\n",
       "}\n",
       "\n",
       "\n",
       "/* Toggleable style: style used for estimator/Pipeline/ColumnTransformer box that is\n",
       "clickable and can be expanded/collapsed.\n",
       "- Pipeline and ColumnTransformer use this feature and define the default style\n",
       "- Estimators will overwrite some part of the style using the `sk-estimator` class\n",
       "*/\n",
       "\n",
       "/* Pipeline and ColumnTransformer style (default) */\n",
       "\n",
       "#sk-container-id-1 div.sk-toggleable {\n",
       "  /* Default theme specific background. It is overwritten whether we have a\n",
       "  specific estimator or a Pipeline/ColumnTransformer */\n",
       "  background-color: var(--sklearn-color-background);\n",
       "}\n",
       "\n",
       "/* Toggleable label */\n",
       "#sk-container-id-1 label.sk-toggleable__label {\n",
       "  cursor: pointer;\n",
       "  display: block;\n",
       "  width: 100%;\n",
       "  margin-bottom: 0;\n",
       "  padding: 0.5em;\n",
       "  box-sizing: border-box;\n",
       "  text-align: center;\n",
       "}\n",
       "\n",
       "#sk-container-id-1 label.sk-toggleable__label-arrow:before {\n",
       "  /* Arrow on the left of the label */\n",
       "  content: \"▸\";\n",
       "  float: left;\n",
       "  margin-right: 0.25em;\n",
       "  color: var(--sklearn-color-icon);\n",
       "}\n",
       "\n",
       "#sk-container-id-1 label.sk-toggleable__label-arrow:hover:before {\n",
       "  color: var(--sklearn-color-text);\n",
       "}\n",
       "\n",
       "/* Toggleable content - dropdown */\n",
       "\n",
       "#sk-container-id-1 div.sk-toggleable__content {\n",
       "  max-height: 0;\n",
       "  max-width: 0;\n",
       "  overflow: hidden;\n",
       "  text-align: left;\n",
       "  /* unfitted */\n",
       "  background-color: var(--sklearn-color-unfitted-level-0);\n",
       "}\n",
       "\n",
       "#sk-container-id-1 div.sk-toggleable__content.fitted {\n",
       "  /* fitted */\n",
       "  background-color: var(--sklearn-color-fitted-level-0);\n",
       "}\n",
       "\n",
       "#sk-container-id-1 div.sk-toggleable__content pre {\n",
       "  margin: 0.2em;\n",
       "  border-radius: 0.25em;\n",
       "  color: var(--sklearn-color-text);\n",
       "  /* unfitted */\n",
       "  background-color: var(--sklearn-color-unfitted-level-0);\n",
       "}\n",
       "\n",
       "#sk-container-id-1 div.sk-toggleable__content.fitted pre {\n",
       "  /* unfitted */\n",
       "  background-color: var(--sklearn-color-fitted-level-0);\n",
       "}\n",
       "\n",
       "#sk-container-id-1 input.sk-toggleable__control:checked~div.sk-toggleable__content {\n",
       "  /* Expand drop-down */\n",
       "  max-height: 200px;\n",
       "  max-width: 100%;\n",
       "  overflow: auto;\n",
       "}\n",
       "\n",
       "#sk-container-id-1 input.sk-toggleable__control:checked~label.sk-toggleable__label-arrow:before {\n",
       "  content: \"▾\";\n",
       "}\n",
       "\n",
       "/* Pipeline/ColumnTransformer-specific style */\n",
       "\n",
       "#sk-container-id-1 div.sk-label input.sk-toggleable__control:checked~label.sk-toggleable__label {\n",
       "  color: var(--sklearn-color-text);\n",
       "  background-color: var(--sklearn-color-unfitted-level-2);\n",
       "}\n",
       "\n",
       "#sk-container-id-1 div.sk-label.fitted input.sk-toggleable__control:checked~label.sk-toggleable__label {\n",
       "  background-color: var(--sklearn-color-fitted-level-2);\n",
       "}\n",
       "\n",
       "/* Estimator-specific style */\n",
       "\n",
       "/* Colorize estimator box */\n",
       "#sk-container-id-1 div.sk-estimator input.sk-toggleable__control:checked~label.sk-toggleable__label {\n",
       "  /* unfitted */\n",
       "  background-color: var(--sklearn-color-unfitted-level-2);\n",
       "}\n",
       "\n",
       "#sk-container-id-1 div.sk-estimator.fitted input.sk-toggleable__control:checked~label.sk-toggleable__label {\n",
       "  /* fitted */\n",
       "  background-color: var(--sklearn-color-fitted-level-2);\n",
       "}\n",
       "\n",
       "#sk-container-id-1 div.sk-label label.sk-toggleable__label,\n",
       "#sk-container-id-1 div.sk-label label {\n",
       "  /* The background is the default theme color */\n",
       "  color: var(--sklearn-color-text-on-default-background);\n",
       "}\n",
       "\n",
       "/* On hover, darken the color of the background */\n",
       "#sk-container-id-1 div.sk-label:hover label.sk-toggleable__label {\n",
       "  color: var(--sklearn-color-text);\n",
       "  background-color: var(--sklearn-color-unfitted-level-2);\n",
       "}\n",
       "\n",
       "/* Label box, darken color on hover, fitted */\n",
       "#sk-container-id-1 div.sk-label.fitted:hover label.sk-toggleable__label.fitted {\n",
       "  color: var(--sklearn-color-text);\n",
       "  background-color: var(--sklearn-color-fitted-level-2);\n",
       "}\n",
       "\n",
       "/* Estimator label */\n",
       "\n",
       "#sk-container-id-1 div.sk-label label {\n",
       "  font-family: monospace;\n",
       "  font-weight: bold;\n",
       "  display: inline-block;\n",
       "  line-height: 1.2em;\n",
       "}\n",
       "\n",
       "#sk-container-id-1 div.sk-label-container {\n",
       "  text-align: center;\n",
       "}\n",
       "\n",
       "/* Estimator-specific */\n",
       "#sk-container-id-1 div.sk-estimator {\n",
       "  font-family: monospace;\n",
       "  border: 1px dotted var(--sklearn-color-border-box);\n",
       "  border-radius: 0.25em;\n",
       "  box-sizing: border-box;\n",
       "  margin-bottom: 0.5em;\n",
       "  /* unfitted */\n",
       "  background-color: var(--sklearn-color-unfitted-level-0);\n",
       "}\n",
       "\n",
       "#sk-container-id-1 div.sk-estimator.fitted {\n",
       "  /* fitted */\n",
       "  background-color: var(--sklearn-color-fitted-level-0);\n",
       "}\n",
       "\n",
       "/* on hover */\n",
       "#sk-container-id-1 div.sk-estimator:hover {\n",
       "  /* unfitted */\n",
       "  background-color: var(--sklearn-color-unfitted-level-2);\n",
       "}\n",
       "\n",
       "#sk-container-id-1 div.sk-estimator.fitted:hover {\n",
       "  /* fitted */\n",
       "  background-color: var(--sklearn-color-fitted-level-2);\n",
       "}\n",
       "\n",
       "/* Specification for estimator info (e.g. \"i\" and \"?\") */\n",
       "\n",
       "/* Common style for \"i\" and \"?\" */\n",
       "\n",
       ".sk-estimator-doc-link,\n",
       "a:link.sk-estimator-doc-link,\n",
       "a:visited.sk-estimator-doc-link {\n",
       "  float: right;\n",
       "  font-size: smaller;\n",
       "  line-height: 1em;\n",
       "  font-family: monospace;\n",
       "  background-color: var(--sklearn-color-background);\n",
       "  border-radius: 1em;\n",
       "  height: 1em;\n",
       "  width: 1em;\n",
       "  text-decoration: none !important;\n",
       "  margin-left: 1ex;\n",
       "  /* unfitted */\n",
       "  border: var(--sklearn-color-unfitted-level-1) 1pt solid;\n",
       "  color: var(--sklearn-color-unfitted-level-1);\n",
       "}\n",
       "\n",
       ".sk-estimator-doc-link.fitted,\n",
       "a:link.sk-estimator-doc-link.fitted,\n",
       "a:visited.sk-estimator-doc-link.fitted {\n",
       "  /* fitted */\n",
       "  border: var(--sklearn-color-fitted-level-1) 1pt solid;\n",
       "  color: var(--sklearn-color-fitted-level-1);\n",
       "}\n",
       "\n",
       "/* On hover */\n",
       "div.sk-estimator:hover .sk-estimator-doc-link:hover,\n",
       ".sk-estimator-doc-link:hover,\n",
       "div.sk-label-container:hover .sk-estimator-doc-link:hover,\n",
       ".sk-estimator-doc-link:hover {\n",
       "  /* unfitted */\n",
       "  background-color: var(--sklearn-color-unfitted-level-3);\n",
       "  color: var(--sklearn-color-background);\n",
       "  text-decoration: none;\n",
       "}\n",
       "\n",
       "div.sk-estimator.fitted:hover .sk-estimator-doc-link.fitted:hover,\n",
       ".sk-estimator-doc-link.fitted:hover,\n",
       "div.sk-label-container:hover .sk-estimator-doc-link.fitted:hover,\n",
       ".sk-estimator-doc-link.fitted:hover {\n",
       "  /* fitted */\n",
       "  background-color: var(--sklearn-color-fitted-level-3);\n",
       "  color: var(--sklearn-color-background);\n",
       "  text-decoration: none;\n",
       "}\n",
       "\n",
       "/* Span, style for the box shown on hovering the info icon */\n",
       ".sk-estimator-doc-link span {\n",
       "  display: none;\n",
       "  z-index: 9999;\n",
       "  position: relative;\n",
       "  font-weight: normal;\n",
       "  right: .2ex;\n",
       "  padding: .5ex;\n",
       "  margin: .5ex;\n",
       "  width: min-content;\n",
       "  min-width: 20ex;\n",
       "  max-width: 50ex;\n",
       "  color: var(--sklearn-color-text);\n",
       "  box-shadow: 2pt 2pt 4pt #999;\n",
       "  /* unfitted */\n",
       "  background: var(--sklearn-color-unfitted-level-0);\n",
       "  border: .5pt solid var(--sklearn-color-unfitted-level-3);\n",
       "}\n",
       "\n",
       ".sk-estimator-doc-link.fitted span {\n",
       "  /* fitted */\n",
       "  background: var(--sklearn-color-fitted-level-0);\n",
       "  border: var(--sklearn-color-fitted-level-3);\n",
       "}\n",
       "\n",
       ".sk-estimator-doc-link:hover span {\n",
       "  display: block;\n",
       "}\n",
       "\n",
       "/* \"?\"-specific style due to the `<a>` HTML tag */\n",
       "\n",
       "#sk-container-id-1 a.estimator_doc_link {\n",
       "  float: right;\n",
       "  font-size: 1rem;\n",
       "  line-height: 1em;\n",
       "  font-family: monospace;\n",
       "  background-color: var(--sklearn-color-background);\n",
       "  border-radius: 1rem;\n",
       "  height: 1rem;\n",
       "  width: 1rem;\n",
       "  text-decoration: none;\n",
       "  /* unfitted */\n",
       "  color: var(--sklearn-color-unfitted-level-1);\n",
       "  border: var(--sklearn-color-unfitted-level-1) 1pt solid;\n",
       "}\n",
       "\n",
       "#sk-container-id-1 a.estimator_doc_link.fitted {\n",
       "  /* fitted */\n",
       "  border: var(--sklearn-color-fitted-level-1) 1pt solid;\n",
       "  color: var(--sklearn-color-fitted-level-1);\n",
       "}\n",
       "\n",
       "/* On hover */\n",
       "#sk-container-id-1 a.estimator_doc_link:hover {\n",
       "  /* unfitted */\n",
       "  background-color: var(--sklearn-color-unfitted-level-3);\n",
       "  color: var(--sklearn-color-background);\n",
       "  text-decoration: none;\n",
       "}\n",
       "\n",
       "#sk-container-id-1 a.estimator_doc_link.fitted:hover {\n",
       "  /* fitted */\n",
       "  background-color: var(--sklearn-color-fitted-level-3);\n",
       "}\n",
       "</style><div id=\"sk-container-id-1\" class=\"sk-top-container\"><div class=\"sk-text-repr-fallback\"><pre>RandomForestRegressor(random_state=42)</pre><b>In a Jupyter environment, please rerun this cell to show the HTML representation or trust the notebook. <br />On GitHub, the HTML representation is unable to render, please try loading this page with nbviewer.org.</b></div><div class=\"sk-container\" hidden><div class=\"sk-item\"><div class=\"sk-estimator fitted sk-toggleable\"><input class=\"sk-toggleable__control sk-hidden--visually\" id=\"sk-estimator-id-1\" type=\"checkbox\" checked><label for=\"sk-estimator-id-1\" class=\"sk-toggleable__label fitted sk-toggleable__label-arrow fitted\">&nbsp;&nbsp;RandomForestRegressor<a class=\"sk-estimator-doc-link fitted\" rel=\"noreferrer\" target=\"_blank\" href=\"https://scikit-learn.org/1.4/modules/generated/sklearn.ensemble.RandomForestRegressor.html\">?<span>Documentation for RandomForestRegressor</span></a><span class=\"sk-estimator-doc-link fitted\">i<span>Fitted</span></span></label><div class=\"sk-toggleable__content fitted\"><pre>RandomForestRegressor(random_state=42)</pre></div> </div></div></div></div>"
      ],
      "text/plain": [
       "RandomForestRegressor(random_state=42)"
      ]
     },
     "execution_count": 111,
     "metadata": {},
     "output_type": "execute_result"
    }
   ],
   "source": [
    "from sklearn.ensemble import RandomForestRegressor\n",
    "\n",
    "rf = RandomForestRegressor(n_estimators=100, random_state=42)\n",
    "rf.fit(x_train, y_train)"
   ]
  },
  {
   "cell_type": "code",
   "execution_count": 112,
   "id": "e8aedde2-301b-4a1e-a22f-b7432183ad88",
   "metadata": {},
   "outputs": [],
   "source": [
    "#now we can predict but we also need to do evaluation"
   ]
  },
  {
   "cell_type": "code",
   "execution_count": 113,
   "id": "a25f5d79-a383-4311-b7a5-70024cbfa7d5",
   "metadata": {},
   "outputs": [],
   "source": [
    "#will evaluate based on R square,RMSE,MAE"
   ]
  },
  {
   "cell_type": "code",
   "execution_count": 114,
   "id": "976bf712-364e-449a-9cb2-4f5c430539da",
   "metadata": {},
   "outputs": [
    {
     "name": "stdout",
     "output_type": "stream",
     "text": [
      "MAE: 19.459557985873776\n",
      "RMSE: 28.668716094804335\n",
      "R² Score: 0.580524684509008\n"
     ]
    }
   ],
   "source": [
    "from sklearn.metrics import mean_absolute_error, mean_squared_error, r2_score\n",
    "import numpy as np\n",
    "\n",
    "y_pred = rf.predict(x_test)\n",
    "\n",
    "print(\"MAE:\", mean_absolute_error(y_test, y_pred))\n",
    "print(\"RMSE:\", np.sqrt(mean_squared_error(y_test, y_pred)))\n",
    "print(\"R² Score:\", r2_score(y_test, y_pred))\n"
   ]
  },
  {
   "cell_type": "markdown",
   "id": "981171ea-c44e-4594-a46f-7f1280f08a5c",
   "metadata": {},
   "source": [
    "conclusion:\n",
    "\n",
    "The model explains about 58% of the variance in equipment energy consumption. This is a moderate performance"
   ]
  },
  {
   "cell_type": "code",
   "execution_count": 117,
   "id": "1129907d-4188-4d1b-b0fe-5b5d073e19a6",
   "metadata": {},
   "outputs": [
    {
     "name": "stdout",
     "output_type": "stream",
     "text": [
      "MAE: 21.061897642874833\n",
      "RMSE: 30.162312638961637\n",
      "R² Score: 0.5356780699143882\n"
     ]
    },
    {
     "name": "stderr",
     "output_type": "stream",
     "text": [
      "C:\\Users\\bhatk\\AppData\\Roaming\\Python\\Python312\\site-packages\\sklearn\\metrics\\_regression.py:483: FutureWarning: 'squared' is deprecated in version 1.4 and will be removed in 1.6. To calculate the root mean squared error, use the function'root_mean_squared_error'.\n",
      "  warnings.warn(\n"
     ]
    }
   ],
   "source": [
    "import xgboost as xgb\n",
    "\n",
    "xg_model = xgb.XGBRegressor(objective='reg:squarederror', n_estimators=100, learning_rate=0.1, random_state=42)\n",
    "xg_model.fit(x_train, y_train)\n",
    "\n",
    "# Predict\n",
    "y_pred = xg_model.predict(x_test)\n",
    "\n",
    "# Evaluate\n",
    "mae = mean_absolute_error(y_test, y_pred)\n",
    "rmse = mean_squared_error(y_test, y_pred, squared=False)\n",
    "r2 = r2_score(y_test, y_pred)\n",
    "\n",
    "print(f\"MAE: {mae}\")\n",
    "print(f\"RMSE: {rmse}\")\n",
    "print(f\"R² Score: {r2}\")"
   ]
  },
  {
   "cell_type": "code",
   "execution_count": 119,
   "id": "781feb1c-d7ed-450d-be1e-5a3254b62266",
   "metadata": {},
   "outputs": [
    {
     "name": "stdout",
     "output_type": "stream",
     "text": [
      "MAE: 29.141415344266463\n",
      "RMSE: 39.636462172853086\n",
      "R² Score: 0.19817482230081218\n"
     ]
    },
    {
     "name": "stderr",
     "output_type": "stream",
     "text": [
      "C:\\Users\\bhatk\\AppData\\Roaming\\Python\\Python312\\site-packages\\sklearn\\metrics\\_regression.py:483: FutureWarning: 'squared' is deprecated in version 1.4 and will be removed in 1.6. To calculate the root mean squared error, use the function'root_mean_squared_error'.\n",
      "  warnings.warn(\n"
     ]
    }
   ],
   "source": [
    "from sklearn.linear_model import LinearRegression\n",
    "lr = LinearRegression()\n",
    "lr.fit(x_train, y_train)\n",
    "\n",
    "# Predict\n",
    "y_pred = lr.predict(x_test)\n",
    "\n",
    "# Evaluate\n",
    "mae = mean_absolute_error(y_test, y_pred)\n",
    "rmse = mean_squared_error(y_test, y_pred, squared=False)\n",
    "r2 = r2_score(y_test, y_pred)\n",
    "\n",
    "print(f\"MAE: {mae}\")\n",
    "print(f\"RMSE: {rmse}\")\n",
    "print(f\"R² Score: {r2}\")\n"
   ]
  },
  {
   "cell_type": "code",
   "execution_count": 120,
   "id": "c44a9cb8-d9ea-4a91-aec0-8051e651891d",
   "metadata": {},
   "outputs": [],
   "source": [
    "#random forest works better thaan other models"
   ]
  },
  {
   "cell_type": "code",
   "execution_count": null,
   "id": "75a26176-25f6-490e-8ebf-d062e3eb6c21",
   "metadata": {},
   "outputs": [],
   "source": []
  }
 ],
 "metadata": {
  "kernelspec": {
   "display_name": "Python 3 (ipykernel)",
   "language": "python",
   "name": "python3"
  },
  "language_info": {
   "codemirror_mode": {
    "name": "ipython",
    "version": 3
   },
   "file_extension": ".py",
   "mimetype": "text/x-python",
   "name": "python",
   "nbconvert_exporter": "python",
   "pygments_lexer": "ipython3",
   "version": "3.12.5"
  }
 },
 "nbformat": 4,
 "nbformat_minor": 5
}
